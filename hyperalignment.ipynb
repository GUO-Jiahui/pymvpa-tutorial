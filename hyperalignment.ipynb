{
 "metadata": {
  "name": "",
  "signature": "sha256:aa645468ab4c4feecdcb1237591c12ff9091f1ef559efe8343997aba8a916115"
 },
 "nbformat": 3,
 "nbformat_minor": 0,
 "worksheets": [
  {
   "cells": [
    {
     "cell_type": "heading",
     "level": 1,
     "metadata": {},
     "source": [
      "Hyperalignment for between-subject analysis"
     ]
    },
    {
     "cell_type": "markdown",
     "metadata": {},
     "source": [
      "\n",
      "\n",
      "Multivariate pattern analysis (MVPA) reveals how the brain represents\n",
      "fine-scale information. Its power lies in its sensitivity to subtle pattern\n",
      "variations that encode this fine-scale information but that also presents a\n",
      "hurdle for group analyses due to between-subject variability of both anatomical\n",
      "& functional architectures. *Haxby et al. (2011)* recently\n",
      "proposed a method of aligning subjects' brain data in a high-dimensional\n",
      "functional space and showed how to build a common model of ventral temporal\n",
      "cortex that captures visual object category information. They tested their\n",
      "model by successfully performing between-subject classification of category\n",
      "information.  Moreover, when they built the model using a complex naturalistic\n",
      "stimulation (a feature film), it even generalized to other independent\n",
      "experiments even after removing any occurrences of the experimental stimuli\n",
      "from the movie data.\n",
      "\n",
      "In this example we show how to perform Hyperalignment within a single\n",
      "experiment. We will compare between-subject classification after hyperalignment\n",
      "to between-subject classification on anatomically aligned data (currently the\n",
      "most typical approach), and within-subject classification performance."
     ]
    },
    {
     "cell_type": "heading",
     "level": 2,
     "metadata": {},
     "source": [
      "Analysis setup"
     ]
    },
    {
     "cell_type": "code",
     "collapsed": false,
     "input": [
      "from mvpa2.suite import *\n",
      "\n",
      "verbose.level = 2"
     ],
     "language": "python",
     "metadata": {},
     "outputs": [],
     "prompt_number": 1
    },
    {
     "cell_type": "markdown",
     "metadata": {},
     "source": [
      "\n",
      "\n",
      "We start by loading preprocessed datasets of 10 subjects with BOLD-responses\n",
      "of stimulation with face and object images (*Haxby et al., 2011*).\n",
      "Each dataset, after preprocessing, has one sample per category and run for each\n",
      "of the eight runs and seven stimulus categories. Individual subject brains have\n",
      "been aligned anatomically using a 12 dof linear transformation."
     ]
    },
    {
     "cell_type": "code",
     "collapsed": false,
     "input": [
      "cd pymvpa2-tutorial/"
     ],
     "language": "python",
     "metadata": {},
     "outputs": [
      {
       "output_type": "stream",
       "stream": "stdout",
       "text": [
        "/usr/share/data/pymvpa2-tutorial\n"
       ]
      }
     ],
     "prompt_number": 12
    },
    {
     "cell_type": "code",
     "collapsed": false,
     "input": [
      "verbose(1, \"Loading data...\")\n",
      "filepath = os.path.join('hyperalignment_tutorial_data.hdf5.gz')\n",
      "ds_all = h5load(filepath)\n",
      "# zscore all datasets individually\n",
      "_ = [zscore(ds) for ds in ds_all]\n",
      "# inject the subject ID into all datasets\n",
      "for i,sd in enumerate(ds_all):\n",
      "    sd.sa['subject'] = np.repeat(i, len(sd))\n",
      "# number of subjects\n",
      "nsubjs = len(ds_all)\n",
      "# number of categories\n",
      "ncats = len(ds_all[0].UT)\n",
      "# number of run\n",
      "nruns = len(ds_all[0].UC)\n",
      "verbose(2, \"%d subjects\" % len(ds_all))\n",
      "verbose(2, \"Per-subject dataset: %i samples with %i features\" % ds_all[0].shape)\n",
      "verbose(2, \"Stimulus categories: %s\" % ', '.join(ds_all[0].UT))"
     ],
     "language": "python",
     "metadata": {},
     "outputs": [
      {
       "output_type": "stream",
       "stream": "stdout",
       "text": [
        " Loading data...\n"
       ]
      },
      {
       "output_type": "stream",
       "stream": "stdout",
       "text": [
        "  10 subjects\n"
       ]
      },
      {
       "output_type": "stream",
       "stream": "stdout",
       "text": [
        "  Per-subject dataset: 56 samples with 3509 features\n"
       ]
      },
      {
       "output_type": "stream",
       "stream": "stdout",
       "text": [
        "  Stimulus categories: Chair, DogFace, FemaleFace, House, MaleFace, MonkeyFace, Shoe\n"
       ]
      }
     ],
     "prompt_number": 13
    },
    {
     "cell_type": "markdown",
     "metadata": {},
     "source": [
      "\n",
      "\n",
      "Now we'll create a couple of building blocks for the intended analyses. We'll\n",
      "use a linear SVM classifier, and perform feature selection with a simple one-way\n",
      "ANOVA selecting the `nf` highest scoring features."
     ]
    },
    {
     "cell_type": "code",
     "collapsed": false,
     "input": [
      "# use same classifier\n",
      "clf = LinearCSVMC()\n",
      "\n",
      "# feature selection helpers\n",
      "nf = 100\n",
      "fselector = FixedNElementTailSelector(nf, tail='upper',\n",
      "                                      mode='select',sort=False)\n",
      "sbfs = SensitivityBasedFeatureSelection(OneWayAnova(), fselector,\n",
      "                                        enable_ca=['sensitivities'])\n",
      "# create classifier with automatic feature selection\n",
      "fsclf = FeatureSelectionClassifier(clf, sbfs)"
     ],
     "language": "python",
     "metadata": {},
     "outputs": [],
     "prompt_number": 14
    },
    {
     "cell_type": "heading",
     "level": 2,
     "metadata": {},
     "source": [
      "Within-subject classification"
     ]
    },
    {
     "cell_type": "markdown",
     "metadata": {},
     "source": [
      "\n",
      "\n",
      "We start off by running a cross-validated classification analysis for every\n",
      "subject's dataset individually. Data folding will be performed by leaving out\n",
      "one run to serve as the testing dataset. ANOVA-based features selection will be\n",
      "performed automatically on training dataset and applied to testing dataset."
     ]
    },
    {
     "cell_type": "code",
     "collapsed": false,
     "input": [
      "%matplotlib inline"
     ],
     "language": "python",
     "metadata": {},
     "outputs": [],
     "prompt_number": 16
    },
    {
     "cell_type": "code",
     "collapsed": false,
     "input": [
      "verbose(1, \"Performing classification analyses...\")\n",
      "verbose(2, \"within-subject...\", cr=False, lf=False)\n",
      "wsc_start_time = time.time()\n",
      "cv = CrossValidation(fsclf,\n",
      "                     NFoldPartitioner(attr='chunks'),\n",
      "                     errorfx=mean_match_accuracy)\n",
      "# store results in a sequence\n",
      "wsc_results = [cv(sd) for sd in ds_all]\n",
      "wsc_results = vstack(wsc_results)\n",
      "verbose(2, \" done in %.1f seconds\" % (time.time() - wsc_start_time,))"
     ],
     "language": "python",
     "metadata": {},
     "outputs": [
      {
       "output_type": "stream",
       "stream": "stdout",
       "text": [
        " Performing classification analyses...\n"
       ]
      },
      {
       "output_type": "stream",
       "stream": "stdout",
       "text": [
        "  within-subject..."
       ]
      },
      {
       "output_type": "stream",
       "stream": "stdout",
       "text": [
        " done in 2.6 seconds\n"
       ]
      }
     ],
     "prompt_number": 17
    },
    {
     "cell_type": "heading",
     "level": 2,
     "metadata": {},
     "source": [
      "Between-subject classification using anatomically aligned data"
     ]
    },
    {
     "cell_type": "markdown",
     "metadata": {},
     "source": [
      "\n",
      "\n",
      "For between-subject classification with MNI-aligned voxels, we can stack up\n",
      "all individual datasets into a single one, as (anatomical!) feature\n",
      "correspondence is given. The crossvalidation analysis using the feature\n",
      "selection classifier will automatically perform the desired ANOVA-based feature\n",
      "selection on every training dataset partition. However, data folding will now\n",
      "be done by leaving out a complete subject for testing."
     ]
    },
    {
     "cell_type": "code",
     "collapsed": false,
     "input": [
      "verbose(2, \"between-subject (anatomically aligned)...\", cr=False, lf=False)\n",
      "ds_mni = vstack(ds_all)\n",
      "mni_start_time = time.time()\n",
      "cv = CrossValidation(fsclf,\n",
      "                     NFoldPartitioner(attr='subject'),\n",
      "                     errorfx=mean_match_accuracy)\n",
      "bsc_mni_results = cv(ds_mni)\n",
      "verbose(2, \"done in %.1f seconds\" % (time.time() - mni_start_time,))"
     ],
     "language": "python",
     "metadata": {},
     "outputs": [
      {
       "output_type": "stream",
       "stream": "stdout",
       "text": [
        "  between-subject (anatomically aligned)..."
       ]
      },
      {
       "output_type": "stream",
       "stream": "stdout",
       "text": [
        "done in 2.4 seconds\n"
       ]
      }
     ],
     "prompt_number": 18
    },
    {
     "cell_type": "heading",
     "level": 2,
     "metadata": {},
     "source": [
      "Between-subject classification with Hyperalignment(TM)"
     ]
    },
    {
     "cell_type": "markdown",
     "metadata": {},
     "source": [
      "\n",
      "\n",
      "Between-subject classification using Hyperalignment is very similar\n",
      "to the previous analysis. However, now we no longer assume feature\n",
      "correspondence (or aren't satisfied with anatomical alignment anymore).\n",
      "Consequently, we have to transform the individual datasets into a common space\n",
      "before performing the classification analysis. To avoid introducing\n",
      "circularity problems to the analysis, we perform leave-one-run-out\n",
      "data folding manually, and train Hyperalignment only on the training\n",
      "dataset partitions. Subsequently, we will apply the derived transformation\n",
      "to the full datasets, stack them up across individual subjects, as before,\n",
      "and run the classification analysis. ANOVA-based feature selection is done\n",
      "in the same way as before (but also manually)."
     ]
    },
    {
     "cell_type": "code",
     "collapsed": false,
     "input": [
      "verbose(2, \"between-subject (hyperaligned)...\", cr=False, lf=False)\n",
      "hyper_start_time = time.time()\n",
      "bsc_hyper_results = []\n",
      "# same cross-validation over subjects as before\n",
      "cv = CrossValidation(clf, NFoldPartitioner(attr='subject'),\n",
      "                     errorfx=mean_match_accuracy)\n",
      "\n",
      "# leave-one-run-out for hyperalignment training\n",
      "for test_run in range(nruns):\n",
      "    # split in training and testing set\n",
      "    ds_train = [sd[sd.sa.chunks != test_run,:] for sd in ds_all]\n",
      "    ds_test = [sd[sd.sa.chunks == test_run,:] for sd in ds_all]\n",
      "\n",
      "    # manual feature selection for every individual dataset in the list\n",
      "    anova = OneWayAnova()\n",
      "    fscores = [anova(sd) for sd in ds_train]\n",
      "    featsels = [StaticFeatureSelection(fselector(fscore)) for fscore in fscores]\n",
      "    ds_train_fs = [featsels[i].forward(sd) for i, sd in enumerate(ds_train)]\n",
      "\n",
      "\n",
      "    # Perform hyperalignment on the training data with default parameters.\n",
      "    # Computing hyperalignment parameters is as simple as calling the\n",
      "    # hyperalignment object with a list of datasets. All datasets must have the\n",
      "    # same number of samples and time-locked responses are assumed.\n",
      "    # Hyperalignment returns a list of mappers corresponding to subjects in the\n",
      "    # same order as the list of datasets we passed in.\n",
      "\n",
      "\n",
      "    hyper = Hyperalignment()\n",
      "    hypmaps = hyper(ds_train_fs)\n",
      "\n",
      "    # Applying hyperalignment parameters is similar to applying any mapper in\n",
      "    # PyMVPA. We start by selecting the voxels that we used to derive the\n",
      "    # hyperalignment parameters. And then apply the hyperalignment parameters\n",
      "    # by running the test dataset through the forward() function of the mapper.\n",
      "\n",
      "    ds_test_fs = [featsels[i].forward(sd) for i, sd in enumerate(ds_test)]\n",
      "    ds_hyper = [ hypmaps[i].forward(sd) for i, sd in enumerate(ds_test_fs)]\n",
      "\n",
      "    # Now, we have a list of datasets with feature correspondence in a common\n",
      "    # space derived from the training data. Just as in the between-subject\n",
      "    # analyses of anatomically aligned data we can stack them all up and run the\n",
      "    # crossvalidation analysis.\n",
      "\n",
      "    ds_hyper = vstack(ds_hyper)\n",
      "    # zscore each subject individually after transformation for optimal\n",
      "    # performance\n",
      "    zscore(ds_hyper, chunks_attr='subject')\n",
      "    res_cv = cv(ds_hyper)\n",
      "    bsc_hyper_results.append(res_cv)\n",
      "\n",
      "bsc_hyper_results = hstack(bsc_hyper_results)\n",
      "verbose(2, \"done in %.1f seconds\" % (time.time() - hyper_start_time,))"
     ],
     "language": "python",
     "metadata": {},
     "outputs": [
      {
       "output_type": "stream",
       "stream": "stdout",
       "text": [
        "  between-subject (hyperaligned)..."
       ]
      },
      {
       "output_type": "stream",
       "stream": "stdout",
       "text": [
        "done in 6.6 seconds\n"
       ]
      }
     ],
     "prompt_number": 19
    },
    {
     "cell_type": "heading",
     "level": 2,
     "metadata": {},
     "source": [
      "Comparing the results"
     ]
    },
    {
     "cell_type": "heading",
     "level": 3,
     "metadata": {},
     "source": [
      "Performance"
     ]
    },
    {
     "cell_type": "markdown",
     "metadata": {},
     "source": [
      "\n",
      "\n",
      "First we take a look at the classification performance (or accuracy) of all\n",
      "three analysis approaches."
     ]
    },
    {
     "cell_type": "code",
     "collapsed": false,
     "input": [
      "verbose(1, \"Average classification accuracies:\")\n",
      "verbose(2, \"within-subject: %.2f +/-%.3f\"\n",
      "        % (np.mean(wsc_results),\n",
      "           np.std(wsc_results) / np.sqrt(nsubjs - 1)))\n",
      "verbose(2, \"between-subject (anatomically aligned): %.2f +/-%.3f\"\n",
      "        % (np.mean(bsc_mni_results),\n",
      "           np.std(np.mean(bsc_mni_results, axis=1)) / np.sqrt(nsubjs - 1)))\n",
      "verbose(2, \"between-subject (hyperaligned): %.2f +/-%.3f\" \\\n",
      "        % (np.mean(bsc_hyper_results),\n",
      "           np.std(np.mean(bsc_hyper_results, axis=1)) / np.sqrt(nsubjs - 1)))"
     ],
     "language": "python",
     "metadata": {},
     "outputs": [
      {
       "output_type": "stream",
       "stream": "stdout",
       "text": [
        " Average classification accuracies:\n"
       ]
      },
      {
       "output_type": "stream",
       "stream": "stdout",
       "text": [
        "  within-subject: 0.57 +/-0.063\n"
       ]
      },
      {
       "output_type": "stream",
       "stream": "stdout",
       "text": [
        "  between-subject (anatomically aligned): 0.42 +/-0.035\n"
       ]
      },
      {
       "output_type": "stream",
       "stream": "stdout",
       "text": [
        "  between-subject (hyperaligned): 0.61 +/-0.047\n"
       ]
      }
     ],
     "prompt_number": 20
    },
    {
     "cell_type": "markdown",
     "metadata": {},
     "source": [
      "\n",
      "\n",
      "The output of this demo looks like this:"
     ]
    },
    {
     "cell_type": "code",
     "collapsed": false,
     "input": [
      "Loading data...\n",
      " 10 subjects\n",
      " Per-subject dataset: 56 samples with 3509 features\n",
      " Stimulus categories: Chair, DogFace, FemaleFace, House, MaleFace, MonkeyFace, Shoe\n",
      "Performing classification analyses...\n",
      " within-subject... done in 4.3 seconds\n",
      " between-subject (anatomically aligned)...done after 3.2 seconds\n",
      " between-subject (hyperaligned)...done in 10.5 seconds\n",
      "Average classification accuracies:\n",
      " within-subject: 0.57 +/-0.063\n",
      " between-subject (anatomically aligned): 0.42 +/-0.035\n",
      " between-subject (hyperaligned): 0.62 +/-0.046"
     ],
     "language": "python",
     "metadata": {},
     "outputs": [
      {
       "ename": "SyntaxError",
       "evalue": "invalid syntax (<ipython-input-21-b5d16a80c0c8>, line 1)",
       "output_type": "pyerr",
       "traceback": [
        "\u001b[0;36m  File \u001b[0;32m\"<ipython-input-21-b5d16a80c0c8>\"\u001b[0;36m, line \u001b[0;32m1\u001b[0m\n\u001b[0;31m    Loading data...\u001b[0m\n\u001b[0m               ^\u001b[0m\n\u001b[0;31mSyntaxError\u001b[0m\u001b[0;31m:\u001b[0m invalid syntax\n"
       ]
      }
     ],
     "prompt_number": 21
    },
    {
     "cell_type": "markdown",
     "metadata": {},
     "source": [
      "\n",
      "\n",
      "It is obvious that the between-subject classification using anatomically\n",
      "aligned data has significantly worse performance when compared to\n",
      "within-subject classification. Clearly the group classification model is\n",
      "inferior to individual classifiers fitted to a particular subject's data.\n",
      "However, a group classifier trained on hyperaligned data is performing at least\n",
      "as good as the within-subject classifiers -- possibly even slightly better due\n",
      "to the increased size of the training dataset."
     ]
    },
    {
     "cell_type": "heading",
     "level": 3,
     "metadata": {},
     "source": [
      "Similarity structures"
     ]
    },
    {
     "cell_type": "markdown",
     "metadata": {},
     "source": [
      "\n",
      "\n",
      "To get a better understanding of how hyperalignment transforms the structure\n",
      "of the data, we compare the similarity structures of the corresponding input\n",
      "datasets of all three analysis above (and one in addition).\n",
      "\n",
      "These are respectively:\n",
      "\n",
      "1. Average similarity structure of the individual data.\n",
      "\n",
      "2. Similarity structure of the averaged hyperaligned data.\n",
      "\n",
      "3. Average similarity structure of the individual data after hyperalignment.\n",
      "\n",
      "4. Similarity structure of the averaged anatomically-aligned data.\n",
      "\n",
      "Similarity structure in this case is the correlation matrix of multivariate\n",
      "response patterns for all seven stimulus categories in the datasets. For\n",
      "the sake of simplicity, all similarity structures are computed on the full\n",
      "dataset without data folding."
     ]
    },
    {
     "cell_type": "code",
     "collapsed": false,
     "input": [
      "# feature selection as above\n",
      "anova = OneWayAnova()\n",
      "fscores = [anova(sd) for sd in ds_all]\n",
      "fscores = np.mean(np.asarray(vstack(fscores)), axis=0)\n",
      "# apply to full datasets\n",
      "ds_fs = [sd[:,fselector(fscores)] for i,sd in enumerate(ds_all)]\n",
      "#run hyperalignment on full datasets\n",
      "hyper = Hyperalignment()\n",
      "mappers = hyper(ds_fs)\n",
      "ds_hyper = [ mappers[i].forward(ds_) for i,ds_ in enumerate(ds_fs)]\n",
      "# similarity of original data samples\n",
      "sm_orig = [np.corrcoef(\n",
      "                sd.get_mapped(\n",
      "                    mean_group_sample(['targets'])).samples)\n",
      "                        for sd in ds_fs]\n",
      "# mean across subjects\n",
      "sm_orig_mean = np.mean(sm_orig, axis=0)\n",
      "# same individual average but this time for hyperaligned data\n",
      "sm_hyper_mean = np.mean(\n",
      "                    [np.corrcoef(\n",
      "                        sd.get_mapped(mean_group_sample(['targets'])).samples)\n",
      "                            for sd in ds_hyper], axis=0)\n",
      "# similarity for averaged hyperaligned data\n",
      "ds_hyper = vstack(ds_hyper)\n",
      "sm_hyper = np.corrcoef(ds_hyper.get_mapped(mean_group_sample(['targets'])))\n",
      "# similarity for averaged anatomically aligned data\n",
      "ds_fs = vstack(ds_fs)\n",
      "sm_anat = np.corrcoef(ds_fs.get_mapped(mean_group_sample(['targets'])))"
     ],
     "language": "python",
     "metadata": {},
     "outputs": [],
     "prompt_number": 22
    },
    {
     "cell_type": "markdown",
     "metadata": {},
     "source": [
      "\n",
      "\n",
      "We then plot the respective similarity strucures."
     ]
    },
    {
     "cell_type": "code",
     "collapsed": false,
     "input": [
      "# class labels should be in more meaningful order for visualization\n",
      "# (human faces, animals faces, objects)\n",
      "intended_label_order = [2,4,1,5,3,0,6]\n",
      "labels = ds_all[0].UT\n",
      "labels = labels[intended_label_order]\n",
      "\n",
      "pl.figure(figsize=(6,6))\n",
      "# plot all three similarity structures\n",
      "for i, sm_t in enumerate((\n",
      "    (sm_orig_mean, \"Average within-subject\\nsimilarity\"),\n",
      "    (sm_anat, \"Similarity of group average\\ndata (anatomically aligned)\"),\n",
      "    (sm_hyper_mean, \"Average within-subject\\nsimilarity (hyperaligned data)\"),\n",
      "    (sm_hyper, \"Similarity of group average\\ndata (hyperaligned)\"),\n",
      "                      )):\n",
      "    sm, title = sm_t\n",
      "    # reorder matrix columns to match label order\n",
      "    sm = sm[intended_label_order][:,intended_label_order]\n",
      "    pl.subplot(2, 2, i+1)\n",
      "    pl.imshow(sm, vmin=-1.0, vmax=1.0, interpolation='nearest')\n",
      "    pl.colorbar(shrink=.4, ticks=[-1,0,1])\n",
      "    pl.title(title, size=12)\n",
      "    ylim = pl.ylim()\n",
      "    pl.xticks(range(ncats), labels, size='small', stretch='ultra-condensed',\n",
      "              rotation=45)\n",
      "    pl.yticks(range(ncats), labels, size='small', stretch='ultra-condensed',\n",
      "              rotation=45)\n",
      "    pl.ylim(ylim)"
     ],
     "language": "python",
     "metadata": {},
     "outputs": [
      {
       "metadata": {},
       "output_type": "display_data",
       "png": "[encoded data removed]",
       "text": [
        "<matplotlib.figure.Figure at 0x7f4e7518a250>"
       ]
      }
     ],
     "prompt_number": 23
    },
    {
     "cell_type": "markdown",
     "metadata": {},
     "source": [
      "\n",
      "\n",
      "\\[Visit [http://pymvpa.org/examples/hyperalignment.html](http://pymvpa.org/examples/hyperalignment.html) to view this figure\\]\n",
      "\n",
      "We can clearly see that averaging anatomically aligned data has a negative\n",
      "effect on the similarity structure, as the fine category structure is diminished\n",
      "and only the coarse structure (faces vs. objects) is preserved. Moreover, we can\n",
      "see that after hyperalignment the average similarity structure of individual\n",
      "data is essentially identical to the similarity structure of averaged data --\n",
      "reflecting the feature correspondence in the common high-dimensional space."
     ]
    },
    {
     "cell_type": "heading",
     "level": 2,
     "metadata": {},
     "source": [
      "Regularized Hyperalignment"
     ]
    },
    {
     "cell_type": "markdown",
     "metadata": {},
     "source": [
      "\n",
      "\n",
      "According to *Xu et al. 2012*, Hyperalignment can be\n",
      "reformulated to a regularized algorithm that can span the whole continuum\n",
      "between [canonical correlation analysis (CCA)](http://en.wikipedia.org/wiki/Canonical_correlation) and regular hyperalignment by\n",
      "varying a regularization parameter (alpha).  Here, we repeat the above\n",
      "between-subject hyperalignment and classification analyses with varying values\n",
      "of alpha from 0 (CCA) to 1.0 (regular hyperalignment).\n",
      "\n",
      "The following code is essentially identical to the implementation of\n",
      "between-subject classification shown above. The only difference is an addition\n",
      "`for` loop doing the alpha value sweep for each cross-validation fold."
     ]
    },
    {
     "cell_type": "code",
     "collapsed": false,
     "input": [
      "alpha_levels = np.concatenate(\n",
      "                    (np.linspace(0.0, 0.7, 8),\n",
      "                     np.linspace(0.8, 1.0, 9)))\n",
      "# to collect the results for later visualization\n",
      "bsc_hyper_results = np.zeros((nsubjs, len(alpha_levels), nruns))\n",
      "# same cross-validation over subjects as before\n",
      "cv = CrossValidation(clf, NFoldPartitioner(attr='subject'),\n",
      "                     errorfx=mean_match_accuracy)\n",
      "\n",
      "# leave-one-run-out for hyperalignment training\n",
      "for test_run in range(nruns):\n",
      "    # split in training and testing set\n",
      "    ds_train = [sd[sd.sa.chunks != test_run,:] for sd in ds_all]\n",
      "    ds_test = [sd[sd.sa.chunks == test_run,:] for sd in ds_all]\n",
      "\n",
      "    # manual feature selection for every individual dataset in the list\n",
      "    anova = OneWayAnova()\n",
      "    fscores = [anova(sd) for sd in ds_train]\n",
      "    featsels = [StaticFeatureSelection(fselector(fscore)) for fscore in fscores]\n",
      "    ds_train_fs = [featsels[i].forward(sd) for i, sd in enumerate(ds_train)]\n",
      "\n",
      "    for alpha_level, alpha in enumerate(alpha_levels):\n",
      "        hyper = Hyperalignment(alignment=ProcrusteanMapper(svd='dgesvd',\n",
      "                                                           space='commonspace'),\n",
      "                               alpha=alpha)\n",
      "        hypmaps = hyper(ds_train_fs)\n",
      "        ds_test_fs = [featsels[i].forward(sd) for i, sd in enumerate(ds_test)]\n",
      "        ds_hyper = [ hypmaps[i].forward(sd) for i, sd in enumerate(ds_test_fs)]\n",
      "        ds_hyper = vstack(ds_hyper)\n",
      "        zscore(ds_hyper, chunks_attr='subject')\n",
      "        res_cv = cv(ds_hyper)\n",
      "        bsc_hyper_results[:, alpha_level, test_run] = res_cv.samples.T"
     ],
     "language": "python",
     "metadata": {},
     "outputs": []
    },
    {
     "cell_type": "markdown",
     "metadata": {},
     "source": [
      "\n",
      "\n",
      "Now we can plot the classification accuracy as a function of regularization\n",
      "intensity."
     ]
    },
    {
     "cell_type": "code",
     "collapsed": false,
     "input": [
      "bsc_hyper_results = np.mean(bsc_hyper_results, axis=2)\n",
      "pl.figure()\n",
      "plot_err_line(bsc_hyper_results, alpha_levels)\n",
      "pl.xlabel('Regularization parameter: alpha')\n",
      "pl.ylabel('Average BSC using hyperalignment +/- SEM')\n",
      "pl.title('Using regularized hyperalignment with varying alpha values')"
     ],
     "language": "python",
     "metadata": {},
     "outputs": []
    },
    {
     "cell_type": "markdown",
     "metadata": {},
     "source": [
      "\n",
      "\n",
      "\\[Visit [http://pymvpa.org/examples/hyperalignment.html](http://pymvpa.org/examples/hyperalignment.html) to view this figure\\]\n",
      "\n",
      "We can clearly see that the regular hyperalignment performs best for this\n",
      "dataset. However, please refer to *Xu et al. 2012* for an\n",
      "example showing that this is not always the case."
     ]
    }
   ],
   "metadata": {}
  }
 ]
}