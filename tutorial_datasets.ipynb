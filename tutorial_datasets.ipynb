{
 "metadata": {
  "name": "",
  "signature": "sha256:7daad49cf1211de64d861e8e229640bcaddefadf4f9df7ed55ab0e2951730ac3"
 },
 "nbformat": 3,
 "nbformat_minor": 0,
 "worksheets": [
  {
   "cells": [
    {
     "cell_type": "heading",
     "level": 1,
     "metadata": {},
     "source": [
      "Dataset basics and concepts"
     ]
    },
    {
     "cell_type": "markdown",
     "metadata": {},
     "source": [
      "\n",
      "\n",
      "A [Dataset](http://pymvpa.org/generated/mvpa2.datasets.base.Dataset.html#mvpa2-datasets-base-dataset) is the basic data container in PyMVPA. It\n",
      "serves as the primary form of data storage, but also as a common container for\n",
      "results returned by most algorithms. In this tutorial part we will take a look\n",
      "at what a dataset consists of, and how it works.\n",
      "\n",
      "Most datasets in PyMVPA are represented as a two-dimensional array, where the\n",
      "first axis is the [sample](http://pymvpa.org/glossary.html#term-sample)s axis, and the second axis represents the\n",
      "[feature](http://pymvpa.org/glossary.html#term-feature)s of the samples.  In the simplest case, a dataset only\n",
      "contains *data* that is a matrix of numerical values."
     ]
    },
    {
     "cell_type": "code",
     "collapsed": false,
     "input": [
      "from mvpa2.tutorial_suite import *\n",
      "data = [[  1,  1, -1],\n",
      "        [  2,  0,  0],\n",
      "        [  3,  1,  1],\n",
      "        [  4,  0, -1]]\n",
      "ds = Dataset(data)\n",
      "ds.shape"
     ],
     "language": "python",
     "metadata": {},
     "outputs": [
      {
       "metadata": {},
       "output_type": "pyout",
       "prompt_number": 1,
       "text": [
        "(4, 3)"
       ]
      }
     ],
     "prompt_number": 1
    },
    {
     "cell_type": "code",
     "collapsed": false,
     "input": [
      "len(ds)"
     ],
     "language": "python",
     "metadata": {},
     "outputs": [
      {
       "metadata": {},
       "output_type": "pyout",
       "prompt_number": 2,
       "text": [
        "4"
       ]
      }
     ],
     "prompt_number": 2
    },
    {
     "cell_type": "code",
     "collapsed": false,
     "input": [
      "ds.nfeatures"
     ],
     "language": "python",
     "metadata": {},
     "outputs": [
      {
       "metadata": {},
       "output_type": "pyout",
       "prompt_number": 3,
       "text": [
        "3"
       ]
      }
     ],
     "prompt_number": 3
    },
    {
     "cell_type": "code",
     "collapsed": false,
     "input": [
      "ds.samples"
     ],
     "language": "python",
     "metadata": {},
     "outputs": [
      {
       "metadata": {},
       "output_type": "pyout",
       "prompt_number": 4,
       "text": [
        "array([[ 1,  1, -1],\n",
        "       [ 2,  0,  0],\n",
        "       [ 3,  1,  1],\n",
        "       [ 4,  0, -1]])"
       ]
      }
     ],
     "prompt_number": 4
    },
    {
     "cell_type": "markdown",
     "metadata": {},
     "source": [
      "\n",
      "\n",
      "In the above example, every row vector in the `data` matrix becomes an\n",
      "observation, a [sample](http://pymvpa.org/glossary.html#term-sample), in the dataset, and every column vector\n",
      "represents an individual variable, a [feature](http://pymvpa.org/glossary.html#term-feature). The concepts of samples\n",
      "and features are essential for a dataset, hence we take a closer look.\n",
      "\n",
      "The dataset assumes that the first axis of the data is to be used to define\n",
      "individual samples. If the dataset is created using a one-dimensional vector it will\n",
      "therefore have as many samples as elements in the vector, and only one feature."
     ]
    },
    {
     "cell_type": "code",
     "collapsed": false,
     "input": [
      "one_d = [ 0, 1, 2, 3 ]\n",
      "one_ds = Dataset(one_d)\n",
      "one_ds.shape"
     ],
     "language": "python",
     "metadata": {},
     "outputs": [
      {
       "metadata": {},
       "output_type": "pyout",
       "prompt_number": 5,
       "text": [
        "(4, 1)"
       ]
      }
     ],
     "prompt_number": 5
    },
    {
     "cell_type": "markdown",
     "metadata": {},
     "source": [
      "\n",
      "\n",
      "On the other hand, if a dataset is created from multi-dimensional data, only its\n",
      "second axis represents the features"
     ]
    },
    {
     "cell_type": "code",
     "collapsed": false,
     "input": [
      "import numpy as np\n",
      "m_ds = Dataset(np.random.random((3, 4, 2, 3)))\n",
      "m_ds.shape"
     ],
     "language": "python",
     "metadata": {},
     "outputs": [
      {
       "metadata": {},
       "output_type": "pyout",
       "prompt_number": 6,
       "text": [
        "(3, 4, 2, 3)"
       ]
      }
     ],
     "prompt_number": 6
    },
    {
     "cell_type": "code",
     "collapsed": false,
     "input": [
      "m_ds.nfeatures"
     ],
     "language": "python",
     "metadata": {},
     "outputs": [
      {
       "metadata": {},
       "output_type": "pyout",
       "prompt_number": 7,
       "text": [
        "4"
       ]
      }
     ],
     "prompt_number": 7
    },
    {
     "cell_type": "markdown",
     "metadata": {},
     "source": [
      "\n",
      "\n",
      "In this case we have a dataset with three samples and four features, where each\n",
      "feature is a 2x3 matrix. In case somebody is wondering now why not simply\n",
      "treat each value in the data array as its own feature (yielding 24 features) --\n",
      "stay tuned, as this is going to be of importance later on."
     ]
    },
    {
     "cell_type": "heading",
     "level": 2,
     "metadata": {},
     "source": [
      "Attributes"
     ]
    },
    {
     "cell_type": "markdown",
     "metadata": {},
     "source": [
      "\n",
      "\n",
      "What we have seen so far does not really warrant the use of a dataset over a\n",
      "plain array or a matrix with samples. However, in the MVPA context we often\n",
      "need to know more about each sample than just the value of its features.  For\n",
      "example, in order to train a supervised-learning algorithm to discriminate two\n",
      "classes of samples we need per-sample [target](http://pymvpa.org/glossary.html#term-target) values to label each\n",
      "sample with its respective class.  Such information can then be used in order\n",
      "to, for example, split a dataset into specific groups of samples.  For this\n",
      "type of auxiliary information a dataset can also contain collections of three\n",
      "types of [attribute](http://pymvpa.org/glossary.html#term-attribute)s: a [sample attribute](http://pymvpa.org/glossary.html#term-sample-attribute), a [feature](http://pymvpa.org/glossary.html#term-feature), and a [dataset attribute](http://pymvpa.org/glossary.html#term-dataset-attribute)."
     ]
    },
    {
     "cell_type": "heading",
     "level": 3,
     "metadata": {},
     "source": [
      "For samples"
     ]
    },
    {
     "cell_type": "markdown",
     "metadata": {},
     "source": [
      "\n",
      "\n",
      "Each [sample](http://pymvpa.org/glossary.html#term-sample) in a dataset can have an arbitrary number of additional\n",
      "attributes. They are stored as vectors of the same length as the number of\n",
      "samples in a collection, and are accessible via the `sa` attribute. A\n",
      "collection is similar to a standard Python `dict`, and hence adding sample\n",
      "attributes works just like adding elements to a dictionary:"
     ]
    },
    {
     "cell_type": "code",
     "collapsed": false,
     "input": [
      "ds.sa['some_attr'] = [ 0., 1, 1, 3 ]\n",
      "ds.sa.keys()"
     ],
     "language": "python",
     "metadata": {},
     "outputs": [
      {
       "metadata": {},
       "output_type": "pyout",
       "prompt_number": 8,
       "text": [
        "['some_attr']"
       ]
      }
     ],
     "prompt_number": 8
    },
    {
     "cell_type": "markdown",
     "metadata": {},
     "source": [
      "\n",
      "\n",
      "However, sample attributes are not directly stored as plain data, but for\n",
      "various reasons as a so-called [Collectable](http://pymvpa.org/generated/mvpa2.base.collections.Collectable.html#mvpa2-base-collections-collectable) that in\n",
      "turn embeds a NumPy array with the actual attribute:"
     ]
    },
    {
     "cell_type": "code",
     "collapsed": false,
     "input": [
      "type(ds.sa['some_attr'])"
     ],
     "language": "python",
     "metadata": {},
     "outputs": [
      {
       "metadata": {},
       "output_type": "pyout",
       "prompt_number": 9,
       "text": [
        "mvpa2.base.collections.ArrayCollectable"
       ]
      }
     ],
     "prompt_number": 9
    },
    {
     "cell_type": "code",
     "collapsed": false,
     "input": [
      "ds.sa['some_attr'].value"
     ],
     "language": "python",
     "metadata": {},
     "outputs": [
      {
       "metadata": {},
       "output_type": "pyout",
       "prompt_number": 10,
       "text": [
        "array([ 0.,  1.,  1.,  3.])"
       ]
      }
     ],
     "prompt_number": 10
    },
    {
     "cell_type": "markdown",
     "metadata": {},
     "source": [
      "\n",
      "\n",
      "This \"complication\" is done to be able to extend attributes with additional\n",
      "functionality that is often needed and can offer a significant speed-up of\n",
      "processing. For example, sample attributes carry a list of their unique values.\n",
      "This list is only computed once (upon first request) and can subsequently be\n",
      "accessed directly without repeated and expensive searches:"
     ]
    },
    {
     "cell_type": "code",
     "collapsed": false,
     "input": [
      "ds.sa['some_attr'].unique"
     ],
     "language": "python",
     "metadata": {},
     "outputs": [
      {
       "metadata": {},
       "output_type": "pyout",
       "prompt_number": 11,
       "text": [
        "array([ 0.,  1.,  3.])"
       ]
      }
     ],
     "prompt_number": 11
    },
    {
     "cell_type": "markdown",
     "metadata": {},
     "source": [
      "\n",
      "\n",
      "However, for most interactive uses of PyMVPA this type of access to attributes'\n",
      "`.value` is relatively cumbersome (too much typing), therefore collections\n",
      "support direct access by name:"
     ]
    },
    {
     "cell_type": "code",
     "collapsed": false,
     "input": [
      "ds.sa.some_attr"
     ],
     "language": "python",
     "metadata": {},
     "outputs": [
      {
       "metadata": {},
       "output_type": "pyout",
       "prompt_number": 12,
       "text": [
        "array([ 0.,  1.,  1.,  3.])"
       ]
      }
     ],
     "prompt_number": 12
    },
    {
     "cell_type": "markdown",
     "metadata": {},
     "source": [
      "\n",
      "\n",
      "Another purpose of the sample attribute collection is to preserve data\n",
      "integrity, by disallowing improper attributes:"
     ]
    },
    {
     "cell_type": "code",
     "collapsed": false,
     "input": [
      "ds.sa['invalid'] = 4"
     ],
     "language": "python",
     "metadata": {},
     "outputs": [
      {
       "ename": "ValueError",
       "evalue": "ArrayCollectable only takes sequences as value.",
       "output_type": "pyerr",
       "traceback": [
        "\u001b[0;31m---------------------------------------------------------------------------\u001b[0m\n\u001b[0;31mValueError\u001b[0m                                Traceback (most recent call last)",
        "\u001b[0;32m<ipython-input-13-10941c23bd22>\u001b[0m in \u001b[0;36m<module>\u001b[0;34m()\u001b[0m\n\u001b[0;32m----> 1\u001b[0;31m \u001b[0mds\u001b[0m\u001b[0;34m.\u001b[0m\u001b[0msa\u001b[0m\u001b[0;34m[\u001b[0m\u001b[0;34m'invalid'\u001b[0m\u001b[0;34m]\u001b[0m \u001b[0;34m=\u001b[0m \u001b[0;36m4\u001b[0m\u001b[0;34m\u001b[0m\u001b[0m\n\u001b[0m",
        "\u001b[0;32m/usr/lib/python2.7/dist-packages/mvpa2/base/collections.pyc\u001b[0m in \u001b[0;36m__setitem__\u001b[0;34m(self, key, value)\u001b[0m\n\u001b[1;32m    588\u001b[0m                     \u001b[0;31m# cannot use np.repeat, because it destroys dimensionality\u001b[0m\u001b[0;34m\u001b[0m\u001b[0;34m\u001b[0m\u001b[0m\n\u001b[1;32m    589\u001b[0m                     \u001b[0mvalue\u001b[0m \u001b[0;34m=\u001b[0m \u001b[0;34m[\u001b[0m\u001b[0mvalue\u001b[0m\u001b[0;34m[\u001b[0m\u001b[0;36m0\u001b[0m\u001b[0;34m]\u001b[0m\u001b[0;34m]\u001b[0m \u001b[0;34m*\u001b[0m \u001b[0mulength\u001b[0m\u001b[0;34m\u001b[0m\u001b[0m\n\u001b[0;32m--> 590\u001b[0;31m             \u001b[0mvalue\u001b[0m \u001b[0;34m=\u001b[0m \u001b[0mArrayCollectable\u001b[0m\u001b[0;34m(\u001b[0m\u001b[0mvalue\u001b[0m\u001b[0;34m)\u001b[0m\u001b[0;34m\u001b[0m\u001b[0m\n\u001b[0m\u001b[1;32m    591\u001b[0m         \u001b[0;32mif\u001b[0m \u001b[0mulength\u001b[0m \u001b[0;32mis\u001b[0m \u001b[0mNone\u001b[0m\u001b[0;34m:\u001b[0m\u001b[0;34m\u001b[0m\u001b[0m\n\u001b[1;32m    592\u001b[0m             \u001b[0mulength\u001b[0m \u001b[0;34m=\u001b[0m \u001b[0mlen\u001b[0m\u001b[0;34m(\u001b[0m\u001b[0mvalue\u001b[0m\u001b[0;34m)\u001b[0m\u001b[0;34m\u001b[0m\u001b[0m\n",
        "\u001b[0;32m/usr/lib/python2.7/dist-packages/mvpa2/base/collections.pyc\u001b[0m in \u001b[0;36m__init__\u001b[0;34m(self, value, name, doc, length)\u001b[0m\n\u001b[1;32m    181\u001b[0m         \u001b[0;32mif\u001b[0m \u001b[0;32mnot\u001b[0m \u001b[0mvalue\u001b[0m \u001b[0;32mis\u001b[0m \u001b[0mNone\u001b[0m \u001b[0;32mand\u001b[0m \u001b[0;32mnot\u001b[0m \u001b[0mhasattr\u001b[0m\u001b[0;34m(\u001b[0m\u001b[0mvalue\u001b[0m\u001b[0;34m,\u001b[0m \u001b[0;34m'__len__'\u001b[0m\u001b[0;34m)\u001b[0m\u001b[0;34m:\u001b[0m\u001b[0;34m\u001b[0m\u001b[0m\n\u001b[1;32m    182\u001b[0m             raise ValueError(\"%s only takes sequences as value.\"\n\u001b[0;32m--> 183\u001b[0;31m                              % self.__class__.__name__)\n\u001b[0m\u001b[1;32m    184\u001b[0m         \u001b[0mself\u001b[0m\u001b[0;34m.\u001b[0m\u001b[0m_target_length\u001b[0m \u001b[0;34m=\u001b[0m \u001b[0mlength\u001b[0m\u001b[0;34m\u001b[0m\u001b[0m\n\u001b[1;32m    185\u001b[0m         \u001b[0mCollectable\u001b[0m\u001b[0;34m.\u001b[0m\u001b[0m__init__\u001b[0m\u001b[0;34m(\u001b[0m\u001b[0mself\u001b[0m\u001b[0;34m,\u001b[0m \u001b[0mvalue\u001b[0m\u001b[0;34m=\u001b[0m\u001b[0mvalue\u001b[0m\u001b[0;34m,\u001b[0m \u001b[0mname\u001b[0m\u001b[0;34m=\u001b[0m\u001b[0mname\u001b[0m\u001b[0;34m,\u001b[0m \u001b[0mdoc\u001b[0m\u001b[0;34m=\u001b[0m\u001b[0mdoc\u001b[0m\u001b[0;34m)\u001b[0m\u001b[0;34m\u001b[0m\u001b[0m\n",
        "\u001b[0;31mValueError\u001b[0m: ArrayCollectable only takes sequences as value."
       ]
      }
     ],
     "prompt_number": 13
    },
    {
     "cell_type": "code",
     "collapsed": false,
     "input": [
      "ds.sa['invalid'] = [ 1, 2, 3, 4, 5, 6 ]"
     ],
     "language": "python",
     "metadata": {},
     "outputs": [
      {
       "ename": "ValueError",
       "evalue": "Collectable 'invalid' with length [6] does not match the required length [4] of collection '<SampleAttributesCollection: some_attr>'.",
       "output_type": "pyerr",
       "traceback": [
        "\u001b[0;31m---------------------------------------------------------------------------\u001b[0m\n\u001b[0;31mValueError\u001b[0m                                Traceback (most recent call last)",
        "\u001b[0;32m<ipython-input-14-df7d4a7d0d15>\u001b[0m in \u001b[0;36m<module>\u001b[0;34m()\u001b[0m\n\u001b[0;32m----> 1\u001b[0;31m \u001b[0mds\u001b[0m\u001b[0;34m.\u001b[0m\u001b[0msa\u001b[0m\u001b[0;34m[\u001b[0m\u001b[0;34m'invalid'\u001b[0m\u001b[0;34m]\u001b[0m \u001b[0;34m=\u001b[0m \u001b[0;34m[\u001b[0m \u001b[0;36m1\u001b[0m\u001b[0;34m,\u001b[0m \u001b[0;36m2\u001b[0m\u001b[0;34m,\u001b[0m \u001b[0;36m3\u001b[0m\u001b[0;34m,\u001b[0m \u001b[0;36m4\u001b[0m\u001b[0;34m,\u001b[0m \u001b[0;36m5\u001b[0m\u001b[0;34m,\u001b[0m \u001b[0;36m6\u001b[0m \u001b[0;34m]\u001b[0m\u001b[0;34m\u001b[0m\u001b[0m\n\u001b[0m",
        "\u001b[0;32m/usr/lib/python2.7/dist-packages/mvpa2/base/collections.pyc\u001b[0m in \u001b[0;36m__setitem__\u001b[0;34m(self, key, value)\u001b[0m\n\u001b[1;32m    597\u001b[0m                                 \u001b[0mlen\u001b[0m\u001b[0;34m(\u001b[0m\u001b[0mvalue\u001b[0m\u001b[0;34m.\u001b[0m\u001b[0mvalue\u001b[0m\u001b[0;34m)\u001b[0m\u001b[0;34m,\u001b[0m\u001b[0;34m\u001b[0m\u001b[0m\n\u001b[1;32m    598\u001b[0m                                 \u001b[0mulength\u001b[0m\u001b[0;34m,\u001b[0m\u001b[0;34m\u001b[0m\u001b[0m\n\u001b[0;32m--> 599\u001b[0;31m                                 str(self)))\n\u001b[0m\u001b[1;32m    600\u001b[0m         \u001b[0;31m# tell the attribute to maintain the desired length\u001b[0m\u001b[0;34m\u001b[0m\u001b[0;34m\u001b[0m\u001b[0m\n\u001b[1;32m    601\u001b[0m         \u001b[0mvalue\u001b[0m\u001b[0;34m.\u001b[0m\u001b[0mset_length_check\u001b[0m\u001b[0;34m(\u001b[0m\u001b[0mulength\u001b[0m\u001b[0;34m)\u001b[0m\u001b[0;34m\u001b[0m\u001b[0m\n",
        "\u001b[0;31mValueError\u001b[0m: Collectable 'invalid' with length [6] does not match the required length [4] of collection '<SampleAttributesCollection: some_attr>'."
       ]
      }
     ],
     "prompt_number": 14
    },
    {
     "cell_type": "markdown",
     "metadata": {},
     "source": [
      "\n",
      "\n",
      "But other than basic plausibility checks, no further constraints on values of\n",
      "samples attributes exist. As long as the length of the attribute vector matches\n",
      "the number of samples in the dataset, and the attributes values can be stored\n",
      "in a NumPy array, any value is allowed. Consequently, it is even possible to\n",
      "have n-dimensional arrays, not just vectors, as attributes -- as long as their\n",
      "first axis matched the number of samples in a dataset. Moreover, it is\n",
      "perfectly possible and supported to store literal (non-numerical) attributes.\n",
      "It should also be noted that each attribute may have its own individual data\n",
      "type, hence it is possible to have literal and numeric attributes in the same\n",
      "dataset."
     ]
    },
    {
     "cell_type": "code",
     "collapsed": false,
     "input": [
      "ds.sa['literal'] = ['one', 'two', 'three', 'four']\n",
      "sorted(ds.sa.keys())"
     ],
     "language": "python",
     "metadata": {},
     "outputs": [
      {
       "metadata": {},
       "output_type": "pyout",
       "prompt_number": 15,
       "text": [
        "['literal', 'some_attr']"
       ]
      }
     ],
     "prompt_number": 15
    },
    {
     "cell_type": "code",
     "collapsed": false,
     "input": [
      "for attr in ds.sa:\n",
      "   print \"%s: %s\" % (attr, ds.sa[attr].value.dtype.name)"
     ],
     "language": "python",
     "metadata": {},
     "outputs": [
      {
       "output_type": "stream",
       "stream": "stdout",
       "text": [
        "literal: string40\n",
        "some_attr: float64\n"
       ]
      }
     ],
     "prompt_number": 16
    },
    {
     "cell_type": "heading",
     "level": 3,
     "metadata": {},
     "source": [
      "For features"
     ]
    },
    {
     "cell_type": "markdown",
     "metadata": {},
     "source": [
      "\n",
      "\n",
      "[Feature attribute](http://pymvpa.org/glossary.html#term-feature-attribute)s are almost identical to [sample attribute](http://pymvpa.org/glossary.html#term-sample-attribute)s, the *only* difference is that instead of having one attribute value per\n",
      "sample, feature attributes have one value per (guess what? ...) *feature*.\n",
      "Moreover, they are stored in a separate collection in the dataset that is\n",
      "called `fa`:"
     ]
    },
    {
     "cell_type": "code",
     "collapsed": false,
     "input": [
      "ds.nfeatures"
     ],
     "language": "python",
     "metadata": {},
     "outputs": [
      {
       "metadata": {},
       "output_type": "pyout",
       "prompt_number": 17,
       "text": [
        "3"
       ]
      }
     ],
     "prompt_number": 17
    },
    {
     "cell_type": "code",
     "collapsed": false,
     "input": [
      "ds.fa['my_fav'] = [0, 1, 0]\n",
      "ds.fa['responsible'] = ['me', 'you', 'nobody']\n",
      "sorted(ds.fa.keys())"
     ],
     "language": "python",
     "metadata": {},
     "outputs": [
      {
       "metadata": {},
       "output_type": "pyout",
       "prompt_number": 18,
       "text": [
        "['my_fav', 'responsible']"
       ]
      }
     ],
     "prompt_number": 18
    },
    {
     "cell_type": "heading",
     "level": 3,
     "metadata": {},
     "source": [
      "For the entire dataset"
     ]
    },
    {
     "cell_type": "markdown",
     "metadata": {},
     "source": [
      "\n",
      "\n",
      "Lastly, there can be also attributes, not per-sample, or per-feature, but for\n",
      "the dataset as a whole: so called [dataset attribute](http://pymvpa.org/glossary.html#term-dataset-attribute)s.  Both assigning\n",
      "such attributes and accessing them later on work in exactly the same way as for\n",
      "the other two types of attributes, except that dataset attributes are stored in\n",
      "their own collection which is accessible via the `a` property of the dataset.\n",
      "However, in contrast to sample and feature attribute, no constraints on the\n",
      "type or size are imposed -- anything can be stored. Let's store a list with the\n",
      "names of all files in the current directory, just because we can:"
     ]
    },
    {
     "cell_type": "code",
     "collapsed": false,
     "input": [
      "from glob import glob\n",
      "ds.a['pointless'] = glob(\"*\")\n",
      "'setup.py' in ds.a.pointless"
     ],
     "language": "python",
     "metadata": {},
     "outputs": [
      {
       "metadata": {},
       "output_type": "pyout",
       "prompt_number": 19,
       "text": [
        "False"
       ]
      }
     ],
     "prompt_number": 19
    },
    {
     "cell_type": "heading",
     "level": 2,
     "metadata": {},
     "source": [
      "Slicing, resampling, feature selection"
     ]
    },
    {
     "cell_type": "markdown",
     "metadata": {},
     "source": [
      "\n",
      "\n",
      "At this point we can already construct a dataset from simple arrays and enrich\n",
      "it with an arbitrary number of additional attributes. But just having a dataset\n",
      "isn't enough. We often need to be able to select subsets of a dataset for\n",
      "further processing.\n",
      "\n",
      "Slicing a dataset (i.e. selecting specific subsets) is very similar to\n",
      "slicing a NumPy array. It actually works *almost* identically. A dataset\n",
      "supports Python's `slice` syntax, but also selection by boolean masks and\n",
      "indices. The following three slicing operations result in equivalent output\n",
      "datasets, by always selecting every other samples in the dataset:"
     ]
    },
    {
     "cell_type": "code",
     "collapsed": false,
     "input": [
      "ds.samples"
     ],
     "language": "python",
     "metadata": {},
     "outputs": [
      {
       "metadata": {},
       "output_type": "pyout",
       "prompt_number": 20,
       "text": [
        "array([[ 1,  1, -1],\n",
        "       [ 2,  0,  0],\n",
        "       [ 3,  1,  1],\n",
        "       [ 4,  0, -1]])"
       ]
      }
     ],
     "prompt_number": 20
    },
    {
     "cell_type": "code",
     "collapsed": false,
     "input": [
      "ds[::2].samples"
     ],
     "language": "python",
     "metadata": {},
     "outputs": [
      {
       "metadata": {},
       "output_type": "pyout",
       "prompt_number": 21,
       "text": [
        "array([[ 1,  1, -1],\n",
        "       [ 3,  1,  1]])"
       ]
      }
     ],
     "prompt_number": 21
    },
    {
     "cell_type": "code",
     "collapsed": false,
     "input": [
      "mask = np.array([True, False, True, False])\n",
      "ds[mask].samples"
     ],
     "language": "python",
     "metadata": {},
     "outputs": [
      {
       "metadata": {},
       "output_type": "pyout",
       "prompt_number": 22,
       "text": [
        "array([[ 1,  1, -1],\n",
        "       [ 3,  1,  1]])"
       ]
      }
     ],
     "prompt_number": 22
    },
    {
     "cell_type": "code",
     "collapsed": false,
     "input": [
      "ds[[0, 2]].samples"
     ],
     "language": "python",
     "metadata": {},
     "outputs": [
      {
       "metadata": {},
       "output_type": "pyout",
       "prompt_number": 23,
       "text": [
        "array([[ 1,  1, -1],\n",
        "       [ 3,  1,  1]])"
       ]
      }
     ],
     "prompt_number": 23
    },
    {
     "cell_type": "markdown",
     "metadata": {},
     "source": [
      "- - -\n",
      "**Exercise**\n",
      "\n",
      "\n",
      "\n",
      "Search the \n",
      "[NumPy documentation](http://docs.scipy.org/doc/) for the\n",
      "difference between \"basic slicing\" and \"advanced indexing\". The aspect of\n",
      "memory consumption, especially, applies to dataset slicing as well, and being\n",
      "aware of this fact might help to write more efficient analysis scripts. Which\n",
      "of the three slicing approaches above is the most memory-efficient?  Which of\n",
      "the three slicing approaches above might lead to unexpected side-effects if\n",
      "the output dataset gets modified?"
     ]
    },
    {
     "cell_type": "code",
     "collapsed": false,
     "input": [
      "# you can use this cell for this exercise\n",
      "# slicing only point to the original data, so changing the number in the sliced one will change the origianl data"
     ],
     "language": "python",
     "metadata": {},
     "outputs": [],
     "prompt_number": 24
    },
    {
     "cell_type": "markdown",
     "metadata": {},
     "source": [
      "- - -\n",
      "\n",
      "\n",
      "All three slicing-styles are equally applicable to the selection of feature\n",
      "subsets within a dataset. Remember, features are represented on the second axis\n",
      "of a dataset."
     ]
    },
    {
     "cell_type": "code",
     "collapsed": false,
     "input": [
      "ds[:, [1,2]].samples"
     ],
     "language": "python",
     "metadata": {},
     "outputs": [
      {
       "metadata": {},
       "output_type": "pyout",
       "prompt_number": 25,
       "text": [
        "array([[ 1, -1],\n",
        "       [ 0,  0],\n",
        "       [ 1,  1],\n",
        "       [ 0, -1]])"
       ]
      }
     ],
     "prompt_number": 25
    },
    {
     "cell_type": "markdown",
     "metadata": {},
     "source": [
      "\n",
      "\n",
      "By applying a selection by indices to the second axis, we can easily get\n",
      "the last two features of our example dataset. Please note that the `:` is supplied\n",
      "for the first axis slicing. This is the Python way to indicate *take everything\n",
      "along this axis*, thus including all samples.\n",
      "\n",
      "As you can guess, it is also possible to select subsets of samples and\n",
      "features at the same time."
     ]
    },
    {
     "cell_type": "code",
     "collapsed": false,
     "input": [
      "subds = ds[[0,1], [0,2]]\n",
      "subds.samples"
     ],
     "language": "python",
     "metadata": {},
     "outputs": [
      {
       "metadata": {},
       "output_type": "pyout",
       "prompt_number": 26,
       "text": [
        "array([[ 1, -1],\n",
        "       [ 2,  0]])"
       ]
      }
     ],
     "prompt_number": 26
    },
    {
     "cell_type": "markdown",
     "metadata": {},
     "source": [
      "\n",
      "\n",
      "If you have prior experience with NumPy you might be confused now. What you\n",
      "might have expected is this:"
     ]
    },
    {
     "cell_type": "code",
     "collapsed": false,
     "input": [
      "print ds.samples"
     ],
     "language": "python",
     "metadata": {},
     "outputs": [
      {
       "output_type": "stream",
       "stream": "stdout",
       "text": [
        "[[ 1  1 -1]\n",
        " [ 2  0  0]\n",
        " [ 3  1  1]\n",
        " [ 4  0 -1]]\n"
       ]
      }
     ],
     "prompt_number": 29
    },
    {
     "cell_type": "code",
     "collapsed": false,
     "input": [
      "ds.samples[[0,1], [0,2]]"
     ],
     "language": "python",
     "metadata": {},
     "outputs": [
      {
       "metadata": {},
       "output_type": "pyout",
       "prompt_number": 27,
       "text": [
        "array([1, 0])"
       ]
      }
     ],
     "prompt_number": 27
    },
    {
     "cell_type": "markdown",
     "metadata": {},
     "source": [
      "\n",
      "\n",
      "The above code applies the same slicing directly to the NumPy array of\n",
      "`.samples`, and the result is fundamentally different. For NumPy arrays\n",
      "this style of slicing allows selection of specific elements by their indices on\n",
      "each axis of an array. For PyMVPA's datasets this mode is not very useful,\n",
      "instead we typically want to select rows and columns, i.e. samples and\n",
      "features given by their indices."
     ]
    },
    {
     "cell_type": "markdown",
     "metadata": {},
     "source": [
      "- - -\n",
      "**Exercise**\n",
      "\n",
      "\n",
      "\n",
      "Try to select samples [0,1] and features [0,2] simultaneously using\n",
      "dataset slicing.  Now apply the same slicing to the samples array itself\n",
      "(`ds.samples`) -- make sure that the result doesn't surprise you and find\n",
      "a pure NumPy way to achieve similar selection."
     ]
    },
    {
     "cell_type": "code",
     "collapsed": false,
     "input": [
      "# you can use this cell for this exercise\n",
      "# ds[0:2, 0:3:2].samples\n",
      "ds.samples[0:2, 0:3:2]"
     ],
     "language": "python",
     "metadata": {},
     "outputs": [
      {
       "metadata": {},
       "output_type": "pyout",
       "prompt_number": 55,
       "text": [
        "array([[ 1, -1],\n",
        "       [ 2,  0]])"
       ]
      }
     ],
     "prompt_number": 55
    },
    {
     "cell_type": "markdown",
     "metadata": {},
     "source": [
      "- - -\n",
      "\n",
      "\n",
      "One last interesting thing to look at, in the context of dataset slicing,\n",
      "are the attributes. What happens to them when a subset of samples and/or\n",
      "features is chosen? Our original dataset had both samples and feature attributes:"
     ]
    },
    {
     "cell_type": "code",
     "collapsed": false,
     "input": [
      "print ds.sa.some_attr"
     ],
     "language": "python",
     "metadata": {},
     "outputs": [
      {
       "output_type": "stream",
       "stream": "stdout",
       "text": [
        "[ 0.  1.  1.  3.]\n"
       ]
      }
     ],
     "prompt_number": 56
    },
    {
     "cell_type": "code",
     "collapsed": false,
     "input": [
      "print ds.fa.responsible"
     ],
     "language": "python",
     "metadata": {},
     "outputs": [
      {
       "output_type": "stream",
       "stream": "stdout",
       "text": [
        "['me' 'you' 'nobody']\n"
       ]
      }
     ],
     "prompt_number": 57
    },
    {
     "cell_type": "markdown",
     "metadata": {},
     "source": [
      "\n",
      "\n",
      "Now let's look at what they became in the subset-dataset we previously\n",
      "created:"
     ]
    },
    {
     "cell_type": "code",
     "collapsed": false,
     "input": [
      "print subds.sa.some_attr"
     ],
     "language": "python",
     "metadata": {},
     "outputs": [
      {
       "output_type": "stream",
       "stream": "stdout",
       "text": [
        "[ 0.  1.]\n"
       ]
      }
     ],
     "prompt_number": 58
    },
    {
     "cell_type": "code",
     "collapsed": false,
     "input": [
      "print subds.fa.responsible"
     ],
     "language": "python",
     "metadata": {},
     "outputs": [
      {
       "output_type": "stream",
       "stream": "stdout",
       "text": [
        "['me' 'nobody']\n"
       ]
      }
     ],
     "prompt_number": 59
    },
    {
     "cell_type": "markdown",
     "metadata": {},
     "source": [
      "\n",
      "\n",
      "We see that both attributes are still there and, moreover, also the\n",
      "corresponding subsets have been selected.  It makes it convenient to select\n",
      "subsets of the dataset matching specific values of sample or feature attributes,\n",
      "or both:"
     ]
    },
    {
     "cell_type": "code",
     "collapsed": false,
     "input": [
      "subds = ds[ds.sa.some_attr == 1., ds.fa.responsible == 'me']\n",
      "print subds.shape"
     ],
     "language": "python",
     "metadata": {},
     "outputs": [
      {
       "output_type": "stream",
       "stream": "stdout",
       "text": [
        "(2, 1)\n"
       ]
      }
     ],
     "prompt_number": 60
    },
    {
     "cell_type": "markdown",
     "metadata": {},
     "source": [
      "\n",
      "\n",
      "To simplify such selections based on the values of attributes, it is possible\n",
      "to specify the desired selection as a dictionary for either samples of features\n",
      "dimensions, where each key corresponds to an attribute name, and each value\n",
      "specifies a list of desired attribute values.  Specifying multiple keys for\n",
      "either dimension can be used to obtain the intersection of matching elements:"
     ]
    },
    {
     "cell_type": "code",
     "collapsed": false,
     "input": [
      "subds = ds[{'some_attr': [1., 0.], 'literal': ['two']}, {'responsible': ['me', 'you']}]\n",
      "print subds.sa.some_attr, subds.sa.literal, subds.fa.responsible"
     ],
     "language": "python",
     "metadata": {},
     "outputs": [
      {
       "output_type": "stream",
       "stream": "stdout",
       "text": [
        "[ 1.] ['two'] ['me' 'you']\n"
       ]
      }
     ],
     "prompt_number": 61
    },
    {
     "cell_type": "markdown",
     "metadata": {},
     "source": [
      "- - -\n",
      "**Exercise**\n",
      "\n",
      "\n",
      "\n",
      "Check the documentation of the \n",
      "[select()](http://pymvpa.org/generated/mvpa2.datasets.base.Dataset.select.html#mvpa2-datasets-base-dataset-select) method\n",
      "that can also be used to implement such a selection, but provides an\n",
      "additional argument `strict`.  Modify the example above to select\n",
      "non-existing elements via `[]`, and compare to the result to the output\n",
      "of `select()` with `strict=False`."
     ]
    },
    {
     "cell_type": "code",
     "collapsed": false,
     "input": [
      "# you can use this cell for this exercise\n",
      "subds = ds.select({'some_attr': [1., 0.], 'literal': ['two']}, {'responsible': ['me', 'you']})\n",
      "print subds.sa.some_attr, subds.sa.literal, subds.fa.responsible"
     ],
     "language": "python",
     "metadata": {},
     "outputs": [
      {
       "output_type": "stream",
       "stream": "stdout",
       "text": [
        "[ 1.] ['two'] ['me' 'you']\n"
       ]
      }
     ],
     "prompt_number": 63
    },
    {
     "cell_type": "markdown",
     "metadata": {},
     "source": [
      "- - -\n"
     ]
    },
    {
     "cell_type": "heading",
     "level": 2,
     "metadata": {},
     "source": [
      "Load fMRI data"
     ]
    },
    {
     "cell_type": "markdown",
     "metadata": {},
     "source": [
      "\n",
      "\n",
      "Enough theoretical foreplay -- let's look at a concrete example of loading an\n",
      "fMRI dataset. PyMVPA has several helper functions to load data from specialized\n",
      "formats, and the one for fMRI data is [fmri_dataset()](http://pymvpa.org/generated/mvpa2.datasets.mri.fmri_dataset.html#mvpa2-datasets-mri-fmri-dataset). The\n",
      "example dataset we are going to look at is a single subject from Haxby et al.\n",
      "(2001).  For more convenience and less typing, we have a short cut for the\n",
      "path of the directory with the fMRI data: `tutorial_data_path``.\n",
      "\n",
      "In the simplest case, we now let [fmri_dataset](http://pymvpa.org/generated/mvpa2.datasets.mri.fmri_dataset.html#mvpa2-datasets-mri-fmri-dataset) do its job,\n",
      "by just pointing it to the fMRI data file. The data is stored as a NIfTI file\n",
      "that has all volumes of one experiment concatenated into a single file."
     ]
    },
    {
     "cell_type": "code",
     "collapsed": false,
     "input": [
      "bold_fname = os.path.join(tutorial_data_path, 'haxby2001', 'sub001',\n",
      "                          'BOLD', 'task001_run001', 'bold.nii.gz')\n",
      "ds = fmri_dataset(bold_fname)\n",
      "len(ds)"
     ],
     "language": "python",
     "metadata": {},
     "outputs": [
      {
       "metadata": {},
       "output_type": "pyout",
       "prompt_number": 64,
       "text": [
        "121"
       ]
      }
     ],
     "prompt_number": 64
    },
    {
     "cell_type": "code",
     "collapsed": false,
     "input": [
      "ds.nfeatures"
     ],
     "language": "python",
     "metadata": {},
     "outputs": [
      {
       "metadata": {},
       "output_type": "pyout",
       "prompt_number": 65,
       "text": [
        "163840"
       ]
      }
     ],
     "prompt_number": 65
    },
    {
     "cell_type": "code",
     "collapsed": false,
     "input": [
      "ds.shape"
     ],
     "language": "python",
     "metadata": {},
     "outputs": [
      {
       "metadata": {},
       "output_type": "pyout",
       "prompt_number": 66,
       "text": [
        "(121, 163840)"
       ]
      }
     ],
     "prompt_number": 66
    },
    {
     "cell_type": "markdown",
     "metadata": {},
     "source": [
      "\n",
      "\n",
      "We can notice two things. First -- *it worked!* Second, we obtained a\n",
      "two-dimensional dataset with 121 samples (these are volumes in the NIfTI file),\n",
      "and over 160k features (these are voxels in the volume). The voxels are\n",
      "represented as a one-dimensional vector, and it seems that they have lost their\n",
      "association with the 3D-voxel-space. However, this is not the case, as we will\n",
      "see later.  PyMVPA represents data in this simple format to make it compatible\n",
      "with a vast range of generic algorithms that expect data to be a simple matrix.\n",
      "\n",
      "We loaded all data from that NIfTI file, but usually we would be interested in\n",
      "a subset only, i.e. \"brain voxels\".  [fmri_dataset](http://pymvpa.org/generated/mvpa2.datasets.mri.fmri_dataset.html#mvpa2-datasets-mri-fmri-dataset) is\n",
      "capable of performing data masking. We just need to specify a mask image. Such\n",
      "a mask image is generated in pretty much any fMRI analysis pipeline -- may it\n",
      "be a full-brain mask computed during skull-stripping, or an activation map from\n",
      "a functional localizer. We are going to use the original GLM-based localizer\n",
      "mask of ventral temporal cortex from Haxby et al. (2001).  Let's reload the\n",
      "dataset:"
     ]
    },
    {
     "cell_type": "code",
     "collapsed": false,
     "input": [
      "mask_fname = os.path.join(tutorial_data_path, 'haxby2001', 'sub001',\n",
      "                          'masks', 'orig', 'vt.nii.gz')\n",
      "ds = fmri_dataset(bold_fname, mask=mask_fname)\n",
      "len(ds)"
     ],
     "language": "python",
     "metadata": {},
     "outputs": [
      {
       "metadata": {},
       "output_type": "pyout",
       "prompt_number": 67,
       "text": [
        "121"
       ]
      }
     ],
     "prompt_number": 67
    },
    {
     "cell_type": "code",
     "collapsed": false,
     "input": [
      "ds.nfeatures"
     ],
     "language": "python",
     "metadata": {},
     "outputs": [
      {
       "metadata": {},
       "output_type": "pyout",
       "prompt_number": 68,
       "text": [
        "577"
       ]
      }
     ],
     "prompt_number": 68
    },
    {
     "cell_type": "markdown",
     "metadata": {},
     "source": [
      "\n",
      "\n",
      "As expected, we get the same number of samples, but now only 577 features\n",
      "-- voxels corresponding to non-zero elements in the mask image. Now, let's\n",
      "explore this dataset a little further."
     ]
    },
    {
     "cell_type": "markdown",
     "metadata": {},
     "source": [
      "- - -\n",
      "**Exercise**\n",
      "\n",
      "\n",
      "\n",
      "Explore the dataset attribute collections. What kind of information do they\n",
      "contain?"
     ]
    },
    {
     "cell_type": "code",
     "collapsed": false,
     "input": [
      "# you can use this cell for this exercise\n",
      "for attr in ds.sa:\n",
      "   print \"%s: %s\" % (attr, ds.sa[attr].value.dtype.name)"
     ],
     "language": "python",
     "metadata": {},
     "outputs": [
      {
       "output_type": "stream",
       "stream": "stdout",
       "text": [
        "time_indices: int64\n",
        "time_coords: float64\n"
       ]
      }
     ],
     "prompt_number": 69
    },
    {
     "cell_type": "code",
     "collapsed": false,
     "input": [
      "print ds.sa.keys()\n",
      "print ds.fa.keys()"
     ],
     "language": "python",
     "metadata": {},
     "outputs": [
      {
       "output_type": "stream",
       "stream": "stdout",
       "text": [
        "['time_indices', 'time_coords']\n",
        "['voxel_indices']\n"
       ]
      }
     ],
     "prompt_number": 79
    },
    {
     "cell_type": "code",
     "collapsed": false,
     "input": [
      "ds.sa.time_indices"
     ],
     "language": "python",
     "metadata": {},
     "outputs": [
      {
       "metadata": {},
       "output_type": "pyout",
       "prompt_number": 80,
       "text": [
        "array([  0,   1,   2,   3,   4,   5,   6,   7,   8,   9,  10,  11,  12,\n",
        "        13,  14,  15,  16,  17,  18,  19,  20,  21,  22,  23,  24,  25,\n",
        "        26,  27,  28,  29,  30,  31,  32,  33,  34,  35,  36,  37,  38,\n",
        "        39,  40,  41,  42,  43,  44,  45,  46,  47,  48,  49,  50,  51,\n",
        "        52,  53,  54,  55,  56,  57,  58,  59,  60,  61,  62,  63,  64,\n",
        "        65,  66,  67,  68,  69,  70,  71,  72,  73,  74,  75,  76,  77,\n",
        "        78,  79,  80,  81,  82,  83,  84,  85,  86,  87,  88,  89,  90,\n",
        "        91,  92,  93,  94,  95,  96,  97,  98,  99, 100, 101, 102, 103,\n",
        "       104, 105, 106, 107, 108, 109, 110, 111, 112, 113, 114, 115, 116,\n",
        "       117, 118, 119, 120])"
       ]
      }
     ],
     "prompt_number": 80
    },
    {
     "cell_type": "code",
     "collapsed": false,
     "input": [
      "ds.fa.voxel_indices"
     ],
     "language": "python",
     "metadata": {},
     "outputs": [
      {
       "metadata": {},
       "output_type": "pyout",
       "prompt_number": 81,
       "text": [
        "array([[ 6, 23, 24],\n",
        "       [ 7, 18, 25],\n",
        "       [ 7, 18, 26],\n",
        "       ..., \n",
        "       [34, 23, 26],\n",
        "       [34, 24, 26],\n",
        "       [34, 24, 27]])"
       ]
      }
     ],
     "prompt_number": 81
    },
    {
     "cell_type": "code",
     "collapsed": false,
     "input": [
      "for attr in ds.fa:\n",
      "   print \"%s: %s\" % (attr, ds.fa[attr].value.dtype.name)"
     ],
     "language": "python",
     "metadata": {},
     "outputs": [
      {
       "output_type": "stream",
       "stream": "stdout",
       "text": [
        "voxel_indices: int64\n"
       ]
      }
     ],
     "prompt_number": 72
    },
    {
     "cell_type": "markdown",
     "metadata": {},
     "source": [
      "- - -\n",
      "\n",
      "\n",
      "Besides samples, the dataset offers a number of attributes that enhance the\n",
      "data with information that is present in the NIfTI image file header.\n",
      "Each sample has information about its volume index in the time series and the\n",
      "actual acquisition time (relative to the beginning of the file). Moreover, the\n",
      "original voxel index (sometimes referred to as `ijk`) for each feature is\n",
      "available too.  Finally, the dataset also contains information about the\n",
      "dimensionality of the input volumes, voxel size, and any other NIfTI-specific\n",
      "information since it also includes a dump of the full NIfTI image header."
     ]
    },
    {
     "cell_type": "code",
     "collapsed": false,
     "input": [
      "ds.sa.time_indices[:5]"
     ],
     "language": "python",
     "metadata": {},
     "outputs": [
      {
       "metadata": {},
       "output_type": "pyout",
       "prompt_number": 82,
       "text": [
        "array([0, 1, 2, 3, 4])"
       ]
      }
     ],
     "prompt_number": 82
    },
    {
     "cell_type": "code",
     "collapsed": false,
     "input": [
      "ds.sa.time_coords[:5]"
     ],
     "language": "python",
     "metadata": {},
     "outputs": [
      {
       "metadata": {},
       "output_type": "pyout",
       "prompt_number": 83,
       "text": [
        "array([  0. ,   2.5,   5. ,   7.5,  10. ])"
       ]
      }
     ],
     "prompt_number": 83
    },
    {
     "cell_type": "code",
     "collapsed": false,
     "input": [
      "ds.fa.voxel_indices[:5]"
     ],
     "language": "python",
     "metadata": {},
     "outputs": [
      {
       "metadata": {},
       "output_type": "pyout",
       "prompt_number": 84,
       "text": [
        "array([[ 6, 23, 24],\n",
        "       [ 7, 18, 25],\n",
        "       [ 7, 18, 26],\n",
        "       [ 7, 18, 27],\n",
        "       [ 7, 19, 25]])"
       ]
      }
     ],
     "prompt_number": 84
    },
    {
     "cell_type": "code",
     "collapsed": false,
     "input": [
      "ds.a.keys()"
     ],
     "language": "python",
     "metadata": {},
     "outputs": [
      {
       "metadata": {},
       "output_type": "pyout",
       "prompt_number": 86,
       "text": [
        "['mapper', 'imgaffine', 'voxel_eldim', 'imghdr', 'imgtype', 'voxel_dim']"
       ]
      }
     ],
     "prompt_number": 86
    },
    {
     "cell_type": "code",
     "collapsed": false,
     "input": [
      "print ds.a.mapper"
     ],
     "language": "python",
     "metadata": {},
     "outputs": [
      {
       "output_type": "stream",
       "stream": "stdout",
       "text": [
        "<Chain: <Flatten>-<StaticFeatureSelection>>\n"
       ]
      }
     ],
     "prompt_number": 89
    },
    {
     "cell_type": "code",
     "collapsed": false,
     "input": [
      "ds.a.voxel_eldim"
     ],
     "language": "python",
     "metadata": {},
     "outputs": [
      {
       "metadata": {},
       "output_type": "pyout",
       "prompt_number": 85,
       "text": [
        "(3.5, 3.75, 3.75)"
       ]
      }
     ],
     "prompt_number": 85
    },
    {
     "cell_type": "code",
     "collapsed": false,
     "input": [
      "ds.a.voxel_dim"
     ],
     "language": "python",
     "metadata": {},
     "outputs": [
      {
       "metadata": {},
       "output_type": "pyout",
       "prompt_number": 90,
       "text": [
        "(40, 64, 64)"
       ]
      }
     ],
     "prompt_number": 90
    },
    {
     "cell_type": "code",
     "collapsed": false,
     "input": [
      "'imghdr' in ds.a"
     ],
     "language": "python",
     "metadata": {},
     "outputs": [
      {
       "metadata": {},
       "output_type": "pyout",
       "prompt_number": 91,
       "text": [
        "True"
       ]
      }
     ],
     "prompt_number": 91
    },
    {
     "cell_type": "markdown",
     "metadata": {},
     "source": [
      "\n",
      "\n",
      "In addition to all this information, the dataset also carries a key additional\n",
      "attribute: the *mapper*. A mapper is an important concept in PyMVPA, and hence\n",
      "has its own *tutorial chapter*."
     ]
    },
    {
     "cell_type": "code",
     "collapsed": false,
     "input": [
      "print ds.a.mapper"
     ],
     "language": "python",
     "metadata": {},
     "outputs": [
      {
       "output_type": "stream",
       "stream": "stdout",
       "text": [
        "<Chain: <Flatten>-<StaticFeatureSelection>>\n"
       ]
      }
     ],
     "prompt_number": 92
    },
    {
     "cell_type": "markdown",
     "metadata": {},
     "source": [
      "\n",
      "\n",
      "Having all these attributes being part of a dataset is often a useful thing to\n",
      "have, but in some cases (e.g. when it comes to efficiency, and/or very large\n",
      "datasets) one might want to have a leaner dataset with just the information\n",
      "that is really necessary. One way to achieve this, is to strip all unwanted\n",
      "attributes. The Dataset class' [AttrDataset.copy()](http://pymvpa.org/generated/mvpa2.base.dataset.AttrDataset.html#mvpa2.base.dataset.AttrDataset.copy)\n",
      "method can help with that."
     ]
    },
    {
     "cell_type": "code",
     "collapsed": false,
     "input": [
      "stripped = ds.copy(deep=False, sa=['time_coords'], fa=[], a=[])\n",
      "print stripped"
     ],
     "language": "python",
     "metadata": {},
     "outputs": [
      {
       "output_type": "stream",
       "stream": "stdout",
       "text": [
        "<Dataset: 121x577@int16, <sa: time_coords>>\n"
       ]
      }
     ],
     "prompt_number": 93
    },
    {
     "cell_type": "markdown",
     "metadata": {},
     "source": [
      "\n",
      "\n",
      "We can see that all attributes besides `time_coords` have been filtered out.\n",
      "Setting the `deep` arguments to `False` causes the copy function to reuse\n",
      "the data from the source dataset to generate the new stripped one, without\n",
      "duplicating all data in memory -- meaning both datasets now share the sample\n",
      "data and any change done to `ds` will also affect `stripped`."
     ]
    },
    {
     "cell_type": "heading",
     "level": 2,
     "metadata": {},
     "source": [
      "Intermediate storage"
     ]
    },
    {
     "cell_type": "markdown",
     "metadata": {},
     "source": [
      "\n",
      "\n",
      "Some data preprocessing can take a long time.  One would rather prevent having\n",
      "to do it over and over again, and instead just store the preprocessed data into\n",
      "a file for subsequent analyses. PyMVPA offers functionality to store a large\n",
      "variety of objects, including datasets, into [HDF5](http://en.wikipedia.org/wiki/Hierarchical_Data_Format) files. A variant of this\n",
      "format is also used by recent versions of Matlab to store data.\n",
      "\n",
      "For HDF5 support, PyMVPA depends on the [h5py](http://h5py.alfven.org) package. If it is available, any\n",
      "dataset can be saved to a file by simply calling\n",
      "[AttrDataset.save()](http://pymvpa.org/generated/mvpa2.base.dataset.AttrDataset.html#mvpa2.base.dataset.AttrDataset.save) with the desired filename."
     ]
    },
    {
     "cell_type": "code",
     "collapsed": false,
     "input": [
      "import tempfile, shutil\n",
      "tempdir = tempfile.mkdtemp()\n",
      "ds.save(os.path.join(tempdir, 'mydataset.hdf5'))"
     ],
     "language": "python",
     "metadata": {},
     "outputs": [],
     "prompt_number": 94
    },
    {
     "cell_type": "code",
     "collapsed": false,
     "input": [
      "print tempdir"
     ],
     "language": "python",
     "metadata": {},
     "outputs": [
      {
       "output_type": "stream",
       "stream": "stdout",
       "text": [
        "/tmp/tmpRElrF1\n"
       ]
      }
     ],
     "prompt_number": 98
    },
    {
     "cell_type": "markdown",
     "metadata": {},
     "source": [
      "\n",
      "\n",
      "HDF5 is a flexible format that also supports, for example, data compression. To\n",
      "enable it, you can pass additional arguments to\n",
      "[AttrDataset.save()](http://pymvpa.org/generated/mvpa2.base.dataset.AttrDataset.html#mvpa2.base.dataset.AttrDataset.save) that are supported by h5py's\n",
      "`Group.create_dataset()`. Instead of using\n",
      "[AttrDataset.save()](http://pymvpa.org/generated/mvpa2.base.dataset.AttrDataset.html#mvpa2.base.dataset.AttrDataset.save) one can also use the\n",
      "[h5save()](http://pymvpa.org/generated/mvpa2.base.hdf5.h5save.html#mvpa2-base-hdf5-h5save) function in a similar way. Saving the same dataset\n",
      "with maximum gzip-compression looks like this:"
     ]
    },
    {
     "cell_type": "code",
     "collapsed": false,
     "input": [
      "ds.save(os.path.join(tempdir, 'mydataset.gzipped.hdf5'), compression=9)\n",
      "h5save(os.path.join(tempdir, 'mydataset.gzipped.hdf5'), ds, compression=9)"
     ],
     "language": "python",
     "metadata": {},
     "outputs": [],
     "prompt_number": 95
    },
    {
     "cell_type": "markdown",
     "metadata": {},
     "source": [
      "\n",
      "\n",
      "Loading datasets from a file is easy too. [h5load()](http://pymvpa.org/generated/mvpa2.base.hdf5.h5load.html#mvpa2-base-hdf5-h5load) takes a\n",
      "filename as an argument and returns the stored dataset. Compressed data will be\n",
      "handled transparently."
     ]
    },
    {
     "cell_type": "code",
     "collapsed": false,
     "input": [
      "loaded = h5load(os.path.join(tempdir, 'mydataset.hdf5'))\n",
      "np.all(ds.samples == loaded.samples)"
     ],
     "language": "python",
     "metadata": {},
     "outputs": [
      {
       "metadata": {},
       "output_type": "pyout",
       "prompt_number": 96,
       "text": [
        "True"
       ]
      }
     ],
     "prompt_number": 96
    },
    {
     "cell_type": "code",
     "collapsed": false,
     "input": [
      "shutil.rmtree(tempdir, ignore_errors=True)"
     ],
     "language": "python",
     "metadata": {},
     "outputs": [],
     "prompt_number": 97
    },
    {
     "cell_type": "markdown",
     "metadata": {},
     "source": [
      "\n",
      "\n",
      "Note that this type of dataset storage is not appropriate from long-term\n",
      "archival of data, as it relies on a stable software environment. For long-term\n",
      "storage, use other formats."
     ]
    }
   ],
   "metadata": {}
  }
 ]
}