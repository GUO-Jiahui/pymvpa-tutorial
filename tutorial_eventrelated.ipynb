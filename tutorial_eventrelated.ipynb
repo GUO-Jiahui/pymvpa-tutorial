{
 "metadata": {
  "name": "",
  "signature": "sha256:5c7927e6dfd68013edb93ea37ccd422dc2fd93900a0ddbec6b2b0c3fa0688af0"
 },
 "nbformat": 3,
 "nbformat_minor": 0,
 "worksheets": [
  {
   "cells": [
    {
     "cell_type": "heading",
     "level": 1,
     "metadata": {},
     "source": [
      "Event-related Data Analysis"
     ]
    },
    {
     "cell_type": "markdown",
     "metadata": {},
     "source": [
      "\n",
      "\n",
      "In all previous tutorial parts we have analyzed the same fMRI data. We analyzed\n",
      "it using a number of different strategies, but they all had one thing in\n",
      "common: A sample in each dataset was always a single volume from an fMRI time\n",
      "series.  Sometimes, we have limited ourselves to just a specific temporal\n",
      "windows of interest, sometimes we averaged many fMRI volumes into a single one.\n",
      "In all cases, however, a feature always corresponded to a voxel in the fMRI\n",
      "volume and appeared only once in the dataset.\n",
      "\n",
      "In this part we are going to extend the analysis beyond the spatial\n",
      "dimensions and will consider *time* as another aspect of our data.\n",
      "We will demonstrate two different approaches: 1) modeling of experimental\n",
      "conditions and proceed with an analysis of model parameter estimates, and\n",
      "2) the extraction of spatio-temporal data samples. The latter approach is\n",
      "common, for example, in ERP-analyses of EEG data.\n",
      "\n",
      "Let's start with our well-known example dataset -- this time selecting a subset\n",
      "of ventral temporal regions."
     ]
    },
    {
     "cell_type": "code",
     "collapsed": false,
     "input": [
      "cd data"
     ],
     "language": "python",
     "metadata": {},
     "outputs": [
      {
       "output_type": "stream",
       "stream": "stdout",
       "text": [
        "/usr/share/data/pymvpa2-tutorial\n"
       ]
      }
     ],
     "prompt_number": 3
    },
    {
     "cell_type": "code",
     "collapsed": false,
     "input": [
      "from mvpa2.tutorial_suite import *\n",
      "ds = get_raw_haxby2001_data(roi=(36,38,39,40))"
     ],
     "language": "python",
     "metadata": {},
     "outputs": [],
     "prompt_number": 4
    },
    {
     "cell_type": "markdown",
     "metadata": {},
     "source": [
      "\n",
      "\n",
      "As we know, this dataset consists of 12 concatenated experiment sessions.\n",
      "Every session had a stimulation block spanning multiple fMRI volumes for\n",
      "each of the eight stimulus categories. Stimulation blocks were separated by\n",
      "rest periods."
     ]
    },
    {
     "cell_type": "heading",
     "level": 2,
     "metadata": {},
     "source": [
      "Event-related Pre-processing Is Not Event-related"
     ]
    },
    {
     "cell_type": "markdown",
     "metadata": {},
     "source": [
      "\n",
      "\n",
      "For an event-related analysis, most of the processing is done on data\n",
      "samples that are somehow derived from a set of events. The rest of the data\n",
      "could be considered irrelevant. However, some preprocessing is only\n",
      "meaningful when performed on the full time series and not on the segmented\n",
      "event samples. An example is the detrending that typically needs to be done\n",
      "on the original, continuous time series.\n",
      "\n",
      "In its current shape our datasets consists of samples that represent contiguous\n",
      "fMRI volumes. At this stage we can easily perform linear detrending."
     ]
    },
    {
     "cell_type": "code",
     "collapsed": false,
     "input": [
      "poly_detrend(ds, polyord=1, chunks_attr='chunks')"
     ],
     "language": "python",
     "metadata": {},
     "outputs": [],
     "prompt_number": 5
    },
    {
     "cell_type": "markdown",
     "metadata": {},
     "source": [
      "\n",
      "\n",
      "Let's make a copy of the de-trended dataset that we can use later on for\n",
      "some visualization."
     ]
    },
    {
     "cell_type": "code",
     "collapsed": false,
     "input": [
      "orig_ds = ds.copy()"
     ],
     "language": "python",
     "metadata": {},
     "outputs": [],
     "prompt_number": 6
    },
    {
     "cell_type": "heading",
     "level": 2,
     "metadata": {},
     "source": [
      "Design Specification"
     ]
    },
    {
     "cell_type": "markdown",
     "metadata": {},
     "source": [
      "\n",
      "\n",
      "For any event-related analysis we need some information on the experiment\n",
      "design: when was stimulated with what for how long (and maybe with what\n",
      "intensity).  In PyMVPA this is done by compiling a list of event definitions.\n",
      "In many cases, an event is defined by *onset*, *duration* and potentially a\n",
      "number of additional properties, such as stimulus condition or recording\n",
      "session number.\n",
      "\n",
      "To see how such events definitions look like, we will simply convert the\n",
      "block-design setup defined by the samples attributes of our dataset into a list\n",
      "of events.  With [find_events()](http://pymvpa.org/generated/mvpa2.datasets.eventrelated.find_events.html#mvpa2-datasets-eventrelated-find-events), PyMVPA\n",
      "provides a function to convert sequential attributes into event lists. In our\n",
      "dataset, we have the stimulus conditions of each volume sample available in the\n",
      "`targets` sample attribute."
     ]
    },
    {
     "cell_type": "code",
     "collapsed": false,
     "input": [
      "events = find_events(targets=ds.sa.targets, chunks=ds.sa.chunks)\n",
      "print len(events)"
     ],
     "language": "python",
     "metadata": {},
     "outputs": [
      {
       "output_type": "stream",
       "stream": "stdout",
       "text": [
        "204\n"
       ]
      }
     ],
     "prompt_number": 7
    },
    {
     "cell_type": "code",
     "collapsed": false,
     "input": [
      "for e in events[:4]:\n",
      "   print e"
     ],
     "language": "python",
     "metadata": {},
     "outputs": [
      {
       "output_type": "stream",
       "stream": "stdout",
       "text": [
        "{'chunks': 0, 'duration': 6, 'onset': 0, 'targets': 'rest'}\n",
        "{'chunks': 0, 'duration': 9, 'onset': 6, 'targets': 'scissors'}\n",
        "{'chunks': 0, 'duration': 6, 'onset': 15, 'targets': 'rest'}\n",
        "{'chunks': 0, 'duration': 9, 'onset': 21, 'targets': 'face'}\n"
       ]
      }
     ],
     "prompt_number": 8
    },
    {
     "cell_type": "markdown",
     "metadata": {},
     "source": [
      "\n",
      "\n",
      "We are feeding not only the `targets` to the function, but also the\n",
      "`chunks` attribute, since we do not want to have events spanning multiple\n",
      "recording sessions. [find_events()](http://pymvpa.org/generated/mvpa2.datasets.eventrelated.find_events.html#mvpa2-datasets-eventrelated-find-events)\n",
      "sequentially parses all provided attributes and records an event whenever the\n",
      "value in *any* of the attributes changes. The generated event definition is a\n",
      "dictionary that contains:\n",
      "\n",
      "1. Onset of the event as an index in the sequence (in this example this is a\n",
      "volume id)\n",
      "\n",
      "2. Duration of the event in \"number of sequence elements\" (i.e. number of\n",
      "volumes). The duration is determined by counting the number of identical\n",
      "attribute combinations following an event onset.\n",
      "\n",
      "3. Attribute combination of this event, i.e. the actual values of all given\n",
      "attributes at the particular position.\n",
      "\n",
      "Let's limit ourselves to `face` and `house` stimulation blocks for now.\n",
      "We can easily filter out all other events."
     ]
    },
    {
     "cell_type": "code",
     "collapsed": false,
     "input": [
      "events = [ev for ev in events if ev['targets'] in ['house', 'face']]\n",
      "print len(events)"
     ],
     "language": "python",
     "metadata": {},
     "outputs": [
      {
       "output_type": "stream",
       "stream": "stdout",
       "text": [
        "24\n"
       ]
      }
     ],
     "prompt_number": 9
    },
    {
     "cell_type": "code",
     "collapsed": false,
     "input": [
      "for e in events[:4]:\n",
      "   print e"
     ],
     "language": "python",
     "metadata": {},
     "outputs": [
      {
       "output_type": "stream",
       "stream": "stdout",
       "text": [
        "{'chunks': 0, 'duration': 9, 'onset': 21, 'targets': 'face'}\n",
        "{'chunks': 0, 'duration': 9, 'onset': 63, 'targets': 'house'}\n",
        "{'chunks': 1, 'duration': 9, 'onset': 127, 'targets': 'face'}\n",
        "{'chunks': 1, 'duration': 9, 'onset': 213, 'targets': 'house'}\n"
       ]
      }
     ],
     "prompt_number": 10
    },
    {
     "cell_type": "heading",
     "level": 2,
     "metadata": {},
     "source": [
      "Response Modeling"
     ]
    },
    {
     "cell_type": "markdown",
     "metadata": {},
     "source": [
      "\n",
      "\n",
      "Whenever we have to deal with data were multiple concurrent signals\n",
      "are overlapping in time, such as in fast event-related fMRI studies,\n",
      "it often makes sense to fit an appropriate model to the data and\n",
      "proceed with an analysis of model parameter estimates, instead of\n",
      "the raw data.\n",
      "\n",
      "PyMVPA can make use of NiPy's GLM modeling capabilities. It expects\n",
      "information on stimulation events to be given as actual time stamps\n",
      "and not data sample indices, hence we have to convert our event list."
     ]
    },
    {
     "cell_type": "code",
     "collapsed": false,
     "input": [
      "TR = np.median(np.diff(ds.sa.time_coords))\n",
      "for ev in events:\n",
      "    ev['onset'] = (ev['onset'] * TR)\n",
      "    ev['duration'] = ev['duration'] * TR"
     ],
     "language": "python",
     "metadata": {},
     "outputs": [],
     "prompt_number": 11
    },
    {
     "cell_type": "markdown",
     "metadata": {},
     "source": [
      "\n",
      "\n",
      "Now we can fit a model of the hemodynamic response to all relevant\n",
      "stimulus conditions. The function\n",
      "[eventrelated_dataset()](http://pymvpa.org/generated/mvpa2.datasets.eventrelated.eventrelated_dataset.html#mvpa2-datasets-eventrelated-eventrelated-dataset) does everything\n",
      "for us. For a given input dataset we need to provide a list of events,\n",
      "the name of an attribute with a time stamp for each sample, and information\n",
      "on what conditions we would like to have modeled. The latter is specified\n",
      "to the `condition_attr` argument. This can be a single attribute name\n",
      "in which case all unique values will be used as conditions. It can also\n",
      "be a sequence of multiple attribute names, and all combinations of unique\n",
      "values of the attributes will be used as conditions. In the following example\n",
      "`('targets', 'chunks')` indicates that we want a separate model for each\n",
      "stimulation condition (`targets`) for each run of our example dataset\n",
      "(`chunks`)."
     ]
    },
    {
     "cell_type": "code",
     "collapsed": false,
     "input": [
      "evds = fit_event_hrf_model(ds,\n",
      "                           events,\n",
      "                           time_attr='time_coords',\n",
      "                           condition_attr=('targets', 'chunks'))\n",
      "print len(evds)"
     ],
     "language": "python",
     "metadata": {},
     "outputs": [
      {
       "output_type": "stream",
       "stream": "stdout",
       "text": [
        "24\n"
       ]
      }
     ],
     "prompt_number": 12
    },
    {
     "cell_type": "markdown",
     "metadata": {},
     "source": [
      "\n",
      "\n",
      "This yields one parameter estimate sample for each target value for each\n",
      "chunks."
     ]
    },
    {
     "cell_type": "markdown",
     "metadata": {},
     "source": [
      "- - -\n",
      "**Exercise**\n",
      "\n",
      "\n",
      "\n",
      "Explore the `evds` dataset. It contains the generated HRF model.\n",
      "Find and plot (some of) them. Take a look at the parameter estimate\n",
      "samples themselves -- can you spot a pattern?"
     ]
    },
    {
     "cell_type": "code",
     "collapsed": false,
     "input": [
      "# you can use this cell for this exercise\n",
      "evds.shape"
     ],
     "language": "python",
     "metadata": {},
     "outputs": [
      {
       "metadata": {},
       "output_type": "pyout",
       "prompt_number": 15,
       "text": [
        "(24, 941)"
       ]
      }
     ],
     "prompt_number": 15
    },
    {
     "cell_type": "code",
     "collapsed": false,
     "input": [
      "print evds"
     ],
     "language": "python",
     "metadata": {},
     "outputs": [
      {
       "output_type": "stream",
       "stream": "stdout",
       "text": [
        "<Dataset: 24x941@float64, <sa: chunks,regressors,targets>, <fa: voxel_indices>, <a: add_regs,imgaffine,imghdr,imgtype,mapper,voxel_dim,voxel_eldim>>\n"
       ]
      }
     ],
     "prompt_number": 22
    },
    {
     "cell_type": "code",
     "collapsed": false,
     "input": [
      "%matplotlib inline"
     ],
     "language": "python",
     "metadata": {},
     "outputs": [],
     "prompt_number": 20
    },
    {
     "cell_type": "code",
     "collapsed": false,
     "input": [
      "pl.plot(np.mean(evds, axis=0))"
     ],
     "language": "python",
     "metadata": {},
     "outputs": [
      {
       "metadata": {},
       "output_type": "pyout",
       "prompt_number": 21,
       "text": [
        "[<matplotlib.lines.Line2D at 0x7f43c3512950>]"
       ]
      },
      {
       "metadata": {},
       "output_type": "display_data",
       "png": "[encoded data removed]",
       "text": [
        "<matplotlib.figure.Figure at 0x7f43c6c3f4d0>"
       ]
      }
     ],
     "prompt_number": 21
    },
    {
     "cell_type": "code",
     "collapsed": false,
     "input": [
      "pl.plot(evds.sa.regressors[0][:100])"
     ],
     "language": "python",
     "metadata": {},
     "outputs": [
      {
       "metadata": {},
       "output_type": "pyout",
       "prompt_number": 24,
       "text": [
        "[<matplotlib.lines.Line2D at 0x7f43c3852490>]"
       ]
      },
      {
       "metadata": {},
       "output_type": "display_data",
       "png": "[encoded data removed]",
       "text": [
        "<matplotlib.figure.Figure at 0x7f43c6c3f510>"
       ]
      }
     ],
     "prompt_number": 24
    },
    {
     "cell_type": "code",
     "collapsed": false,
     "input": [
      "print evds.a.add_regs.sa"
     ],
     "language": "python",
     "metadata": {},
     "outputs": [
      {
       "output_type": "stream",
       "stream": "stdout",
       "text": [
        "<SampleAttributesCollection: regressor_names,regressors>\n"
       ]
      }
     ],
     "prompt_number": 25
    },
    {
     "cell_type": "code",
     "collapsed": false,
     "input": [
      "pl.plot(evds.a.add_regs.sa.regressors[-2])"
     ],
     "language": "python",
     "metadata": {},
     "outputs": [
      {
       "metadata": {},
       "output_type": "pyout",
       "prompt_number": 26,
       "text": [
        "[<matplotlib.lines.Line2D at 0x7f43c36ad150>]"
       ]
      },
      {
       "metadata": {},
       "output_type": "display_data",
       "png": "[encoded data removed]",
       "text": [
        "<matplotlib.figure.Figure at 0x7f43c34856d0>"
       ]
      }
     ],
     "prompt_number": 26
    },
    {
     "cell_type": "code",
     "collapsed": false,
     "input": [
      "pl.matshow(evds.samples)"
     ],
     "language": "python",
     "metadata": {},
     "outputs": [
      {
       "metadata": {},
       "output_type": "pyout",
       "prompt_number": 33,
       "text": [
        "<matplotlib.image.AxesImage at 0x7f43c603ff10>"
       ]
      },
      {
       "metadata": {},
       "output_type": "display_data",
       "png": "[encoded data removed]",
       "text": [
        "<matplotlib.figure.Figure at 0x7f43c60db490>"
       ]
      }
     ],
     "prompt_number": 33
    },
    {
     "cell_type": "code",
     "collapsed": false,
     "input": [
      "evds.targets"
     ],
     "language": "python",
     "metadata": {},
     "outputs": [
      {
       "metadata": {},
       "output_type": "pyout",
       "prompt_number": 32,
       "text": [
        "array(['face', 'face', 'face', 'face', 'face', 'face', 'face', 'face',\n",
        "       'face', 'face', 'face', 'face', 'house', 'house', 'house', 'house',\n",
        "       'house', 'house', 'house', 'house', 'house', 'house', 'house',\n",
        "       'house'], \n",
        "      dtype='|S5')"
       ]
      }
     ],
     "prompt_number": 32
    },
    {
     "cell_type": "markdown",
     "metadata": {},
     "source": [
      "- - -\n",
      "\n",
      "\n",
      "Before we can run a classification analysis we still need to normalize each\n",
      "feature (GLM parameters estimates for each voxel at this point)."
     ]
    },
    {
     "cell_type": "code",
     "collapsed": false,
     "input": [
      "zscore(evds, chunks_attr=None)"
     ],
     "language": "python",
     "metadata": {},
     "outputs": [],
     "prompt_number": 27
    },
    {
     "cell_type": "markdown",
     "metadata": {},
     "source": [
      "\n",
      "\n",
      "The rest is straight-forward: we set up a cross-validation analysis with\n",
      "a chosen classifier and run it:"
     ]
    },
    {
     "cell_type": "code",
     "collapsed": false,
     "input": [
      "clf = kNN(k=1, dfx=one_minus_correlation, voting='majority')\n",
      "cv = CrossValidation(clf, NFoldPartitioner(attr='chunks'))\n",
      "cv_glm = cv(evds)\n",
      "print '%.2f' % np.mean(cv_glm)"
     ],
     "language": "python",
     "metadata": {},
     "outputs": [
      {
       "output_type": "stream",
       "stream": "stdout",
       "text": [
        "0.04\n"
       ]
      }
     ],
     "prompt_number": 28
    },
    {
     "cell_type": "markdown",
     "metadata": {},
     "source": [
      "\n",
      "\n",
      "Not bad! Let's compare that to a simpler approach that is also suitable for\n",
      "block-design experiments like this one."
     ]
    },
    {
     "cell_type": "code",
     "collapsed": false,
     "input": [
      "zscore(ds, param_est=('targets', ['rest']))\n",
      "avgds = ds.get_mapped(mean_group_sample(['targets', 'chunks']))\n",
      "avgds = avgds[np.array([t in ['face', 'house'] for t in avgds.sa.targets])]"
     ],
     "language": "python",
     "metadata": {},
     "outputs": [],
     "prompt_number": 29
    },
    {
     "cell_type": "markdown",
     "metadata": {},
     "source": [
      "\n",
      "\n",
      "We normalize all voxels with respect to the `rest` condition. This yields\n",
      "some crude kind of \"activation\" score for all stimulation conditions.\n",
      "Subsequently, we average all sample of a condition in each run. This yield\n",
      "a dataset of the same size as from the GLM modeling. We can re-use the\n",
      "cross-validation setup."
     ]
    },
    {
     "cell_type": "code",
     "collapsed": false,
     "input": [
      "cv_avg = cv(avgds)\n",
      "print '%.2f' % np.mean(cv_avg)"
     ],
     "language": "python",
     "metadata": {},
     "outputs": [
      {
       "output_type": "stream",
       "stream": "stdout",
       "text": [
        "0.04\n"
       ]
      }
     ],
     "prompt_number": 30
    },
    {
     "cell_type": "markdown",
     "metadata": {},
     "source": [
      "\n",
      "\n",
      "Not bad either. However, it is worth repeating that this simple average-sample\n",
      "approach is limited to block-designs with a clear temporal separation of\n",
      "all signals of interest, whereas the HRF modeling is more suitable for\n",
      "experiments with fast stimulation alternation."
     ]
    },
    {
     "cell_type": "markdown",
     "metadata": {},
     "source": [
      "- - -\n",
      "**Exercise**\n",
      "\n",
      "\n",
      "\n",
      "Think about what need to be done to perform odd/even run GLM modeling."
     ]
    },
    {
     "cell_type": "code",
     "collapsed": false,
     "input": [
      "ds.sa['oddeven'] = [['even', 'odd'][c%2] for c in ds.sa.chunks]\n",
      "print ds.sa.oddeven"
     ],
     "language": "python",
     "metadata": {},
     "outputs": [
      {
       "output_type": "stream",
       "stream": "stdout",
       "text": [
        "['even' 'even' 'even' ..., 'odd' 'odd' 'odd']\n"
       ]
      }
     ],
     "prompt_number": 36
    },
    {
     "cell_type": "code",
     "collapsed": false,
     "input": [
      "for e in events:\n",
      "    e['oddeven'] = ['even', 'old'][e['chunks'] % 2]"
     ],
     "language": "python",
     "metadata": {},
     "outputs": [],
     "prompt_number": 37
    },
    {
     "cell_type": "code",
     "collapsed": false,
     "input": [
      "# you can use this cell for this exercise\n",
      "# print evds.summary()\n",
      "evds2 = fit_event_hrf_model(ds,\n",
      "                           events,\n",
      "                           time_attr='time_coords',\n",
      "                           condition_attr=('targets', 'oddeven'))\n",
      "# print len(evds)"
     ],
     "language": "python",
     "metadata": {},
     "outputs": [],
     "prompt_number": 41
    },
    {
     "cell_type": "code",
     "collapsed": false,
     "input": [
      "print len(evds2)"
     ],
     "language": "python",
     "metadata": {},
     "outputs": [
      {
       "output_type": "stream",
       "stream": "stdout",
       "text": [
        "4\n"
       ]
      }
     ],
     "prompt_number": 42
    },
    {
     "cell_type": "code",
     "collapsed": false,
     "input": [
      "pl.plot(evds2.sa.regressors[0])\n",
      "pl.plot(evds2.sa.regressors[1])\n",
      "# clf2 = kNN(k=1, dfx=one_minus_correlation, voting='majority')\n",
      "# cv2 = CrossValidation(clf2, NFoldPartitioner(attr='oddeveb'))\n",
      "# cv2_glm = cv(evds2)\n",
      "# print '%.2f' % np.mean(cv2_glm)"
     ],
     "language": "python",
     "metadata": {},
     "outputs": [
      {
       "metadata": {},
       "output_type": "pyout",
       "prompt_number": 52,
       "text": [
        "[<matplotlib.lines.Line2D at 0x7f43c4127990>]"
       ]
      },
      {
       "metadata": {},
       "output_type": "display_data",
       "png": "[encoded data removed]",
       "text": [
        "<matplotlib.figure.Figure at 0x7f43c408f3d0>"
       ]
      }
     ],
     "prompt_number": 52
    },
    {
     "cell_type": "markdown",
     "metadata": {},
     "source": [
      "- - -\n"
     ]
    },
    {
     "cell_type": "heading",
     "level": 2,
     "metadata": {},
     "source": [
      "From Timeseries To Spatio-temporal Samples"
     ]
    },
    {
     "cell_type": "markdown",
     "metadata": {},
     "source": [
      "\n",
      "\n",
      "Now we want to try something different. Instead of compressing all temporal\n",
      "information into a single model parameter estimate, we can also consider the\n",
      "entire spatio-temporal signal across our region of interest and the full\n",
      "duration of the stimulation blocks. In other words, we can perform a\n",
      "sensitivity analysis (see *chap_tutorial_sensitivity*) revealing the\n",
      "spatio-temporal distribution of classification-relevant information.\n",
      "\n",
      "Before we start with our event-extraction, we want to normalize each feature\n",
      "(i.e. a voxel at this point). In this case we are, again, going to Z-score\n",
      "them, using the mean and standard deviation from the experiment's rest\n",
      "condition, and the resulting values might be interpreted as \"activation\n",
      "scores\"."
     ]
    },
    {
     "cell_type": "code",
     "collapsed": false,
     "input": [
      "zscore(ds, chunks_attr='chunks', param_est=('targets', 'rest'))"
     ],
     "language": "python",
     "metadata": {},
     "outputs": [],
     "prompt_number": 60
    },
    {
     "cell_type": "markdown",
     "metadata": {},
     "source": [
      "\n",
      "\n",
      "For this analysis we do not have to convert event onset information into\n",
      "time-stamp, but can operate on sample indices, hence we start with the\n",
      "original event list again."
     ]
    },
    {
     "cell_type": "code",
     "collapsed": false,
     "input": [
      "events = find_events(targets=ds.sa.targets, chunks=ds.sa.chunks)\n",
      "events = [ev for ev in events if ev['targets'] in ['house', 'face']]"
     ],
     "language": "python",
     "metadata": {},
     "outputs": [],
     "prompt_number": 61
    },
    {
     "cell_type": "markdown",
     "metadata": {},
     "source": [
      "\n",
      "\n",
      "All of our events are of the same length, 9 consecutive fMRI volumes. Later\n",
      "on we would like to view the temporal sensitivity profile from *before* until\n",
      "*after* the stimulation block, hence we should extend the duration of the\n",
      "events a bit."
     ]
    },
    {
     "cell_type": "code",
     "collapsed": false,
     "input": [
      "event_duration = 13\n",
      "for ev in events:\n",
      "    ev['onset'] -= 2\n",
      "    ev['duration'] = event_duration"
     ],
     "language": "python",
     "metadata": {},
     "outputs": [],
     "prompt_number": 62
    },
    {
     "cell_type": "markdown",
     "metadata": {},
     "source": [
      "\n",
      "\n",
      "The next and most important step is to actually segment the original\n",
      "time series dataset into event-related samples. PyMVPA offers\n",
      "[eventrelated_dataset()](http://pymvpa.org/generated/mvpa2.datasets.eventrelated.eventrelated_dataset.html#mvpa2-datasets-eventrelated-eventrelated-dataset) as a function to\n",
      "perform this conversion. Let's just do it, it only needs the original\n",
      "dataset and our list of events."
     ]
    },
    {
     "cell_type": "code",
     "collapsed": false,
     "input": [
      "evds = eventrelated_dataset(ds, events=events)\n",
      "len(evds) == len(events)"
     ],
     "language": "python",
     "metadata": {},
     "outputs": [
      {
       "metadata": {},
       "output_type": "pyout",
       "prompt_number": 63,
       "text": [
        "True"
       ]
      }
     ],
     "prompt_number": 63
    },
    {
     "cell_type": "code",
     "collapsed": false,
     "input": [
      "evds.nfeatures == ds.nfeatures * event_duration"
     ],
     "language": "python",
     "metadata": {},
     "outputs": [
      {
       "metadata": {},
       "output_type": "pyout",
       "prompt_number": 64,
       "text": [
        "True"
       ]
      }
     ],
     "prompt_number": 64
    },
    {
     "cell_type": "code",
     "collapsed": false,
     "input": [
      "print evds.a.mapper[-2:].reverse1(evds[0]).shape"
     ],
     "language": "python",
     "metadata": {},
     "outputs": [
      {
       "output_type": "stream",
       "stream": "stdout",
       "text": [
        "(1, 12233)\n"
       ]
      }
     ],
     "prompt_number": 74
    },
    {
     "cell_type": "markdown",
     "metadata": {},
     "source": [
      "- - -\n",
      "**Exercise**\n",
      "\n",
      "\n",
      "\n",
      "Inspect the `evds` dataset. It has a fairly large number of attributes\n",
      "-- both for samples and for features. Look at each of them and think\n",
      "about what it could be useful for."
     ]
    },
    {
     "cell_type": "code",
     "collapsed": false,
     "input": [
      "# you can use this cell for this exercise\n",
      "print evds.fa.event_offsetidx"
     ],
     "language": "python",
     "metadata": {},
     "outputs": [
      {
       "output_type": "stream",
       "stream": "stdout",
       "text": [
        "[ 0  0  0 ..., 12 12 12]\n"
       ]
      }
     ],
     "prompt_number": 58
    },
    {
     "cell_type": "markdown",
     "metadata": {},
     "source": [
      "- - -\n",
      "\n",
      "\n",
      "At this point it is worth looking at the dataset's mapper -- in particular at\n",
      "the last two items in the chain mapper that have been added during the\n",
      "conversion into events."
     ]
    },
    {
     "cell_type": "code",
     "collapsed": false,
     "input": [
      "print evds.a.mapper[-2:]"
     ],
     "language": "python",
     "metadata": {},
     "outputs": []
    },
    {
     "cell_type": "markdown",
     "metadata": {},
     "source": [
      "- - -\n",
      "**Exercise**\n",
      "\n",
      "\n",
      "\n",
      "Reverse-map a single sample through the last two items in the chain\n",
      "mapper. Inspect the result and make sure it doesn't surprise. Now,\n",
      "reverse-map multiple samples at once and compare the result. Is this what\n",
      "you would expect?"
     ]
    },
    {
     "cell_type": "code",
     "collapsed": false,
     "input": [
      "# you can use this cell for this exercise"
     ],
     "language": "python",
     "metadata": {},
     "outputs": []
    },
    {
     "cell_type": "markdown",
     "metadata": {},
     "source": [
      "- - -\n",
      "\n",
      "\n",
      "The rest of our analysis is business as usual and is quickly done.  We want to\n",
      "perform a cross-validation analysis of an SVM classifier. We are not\n",
      "primarily interested in its performance, but in the weights it assigns to\n",
      "the features. Remember, each feature is now voxel-at-time-point, so we get a\n",
      "chance of looking at the spatio-temporal profile of classification-relevant\n",
      "information in the data. We will nevertheless enable computing of a confusion\n",
      "matrix, so we can assure ourselves that the classifier is performing\n",
      "reasonably well, because only a generalizing model is worth\n",
      "inspecting, as otherwise it overfits and the assigned weights\n",
      "could be meaningless."
     ]
    },
    {
     "cell_type": "code",
     "collapsed": false,
     "input": [
      "sclf = SplitClassifier(LinearCSVMC(),\n",
      "                       enable_ca=['stats'])\n",
      "sensana = sclf.get_sensitivity_analyzer()\n",
      "sens = sensana(evds)"
     ],
     "language": "python",
     "metadata": {},
     "outputs": [],
     "prompt_number": 75
    },
    {
     "cell_type": "code",
     "collapsed": false,
     "input": [
      "sens.shape"
     ],
     "language": "python",
     "metadata": {},
     "outputs": [
      {
       "metadata": {},
       "output_type": "pyout",
       "prompt_number": 76,
       "text": [
        "(12, 12233)"
       ]
      }
     ],
     "prompt_number": 76
    },
    {
     "cell_type": "markdown",
     "metadata": {},
     "source": [
      "- - -\n",
      "**Exercise**\n",
      "\n",
      "\n",
      "\n",
      "Check that the classifier achieves an acceptable accuracy. Is it\n",
      "enough above chance level to allow for an interpretation of the\n",
      "sensitivities?"
     ]
    },
    {
     "cell_type": "code",
     "collapsed": false,
     "input": [
      "# you can use this cell for this exercise"
     ],
     "language": "python",
     "metadata": {},
     "outputs": [],
     "prompt_number": 77
    },
    {
     "cell_type": "markdown",
     "metadata": {},
     "source": [
      "- - -\n"
     ]
    },
    {
     "cell_type": "markdown",
     "metadata": {},
     "source": [
      "- - -\n",
      "**Exercise**\n",
      "\n",
      "\n",
      "\n",
      "Using what you have learned in the last tutorial part: Combine the\n",
      "sensitivity maps for all splits into a single map. Project this map into\n",
      "the original dataspace. What is the shape of that space? Store the\n",
      "projected map into a NIfTI file and inspect it using an MRI viewer.\n",
      "Viewer needs to be capable of visualizing time series (hint: for FSLView\n",
      "the time series image has to be opened first)!"
     ]
    },
    {
     "cell_type": "code",
     "collapsed": false,
     "input": [
      "print sens"
     ],
     "language": "python",
     "metadata": {},
     "outputs": [
      {
       "output_type": "stream",
       "stream": "stdout",
       "text": [
        "<Dataset: 12x12233@float64, <sa: biases,splits,targets>>\n"
       ]
      }
     ],
     "prompt_number": 81
    },
    {
     "cell_type": "code",
     "collapsed": false,
     "input": [
      "# you can use this cell for this exercise\n",
      "evds.a.mapper[-2:].reverse1(sens).shape"
     ],
     "language": "python",
     "metadata": {},
     "outputs": [
      {
       "metadata": {},
       "output_type": "pyout",
       "prompt_number": 82,
       "text": [
        "(156, 941)"
       ]
      }
     ],
     "prompt_number": 82
    },
    {
     "cell_type": "markdown",
     "metadata": {},
     "source": [
      "- - -\n"
     ]
    },
    {
     "cell_type": "heading",
     "level": 2,
     "metadata": {},
     "source": [
      "A Plotting Example"
     ]
    },
    {
     "cell_type": "markdown",
     "metadata": {},
     "source": [
      "\n",
      "\n",
      "We have inspected the spatio-temporal profile of the sensitivities using\n",
      "some MRI viewer application, but we can also assemble an informative figure\n",
      "right here. Let's compose a figure that shows the original peri-stimulus\n",
      "time series, the effect of normalization, as well as the corresponding\n",
      "sensitivity profile of the trained SVM classifier. We are going to do that\n",
      "for two example voxels, whose coordinates we might have derived from\n",
      "inspecting the full map."
     ]
    },
    {
     "cell_type": "code",
     "collapsed": false,
     "input": [
      "example_voxels = [(28,25,25), (28,23,25)]"
     ],
     "language": "python",
     "metadata": {},
     "outputs": [],
     "prompt_number": 78
    },
    {
     "cell_type": "markdown",
     "metadata": {},
     "source": [
      "\n",
      "\n",
      "The plotting will be done by the popular [matplotlib](http://matplotlib.sourceforge.net/) package.\n",
      "\n",
      "First, we plot the original signal after initial detrending. To do this, we\n",
      "apply the same time series segmentation to the original detrended dataset\n",
      "and plot the mean signal for all face and house events for both of our\n",
      "example voxels. The code below will create the plot using matplotlib's\n",
      "`pylab` interface (imported as `pl`). If you are familiar with Matlab's\n",
      "plotting facilities, this shouldn't be hard to read."
     ]
    },
    {
     "cell_type": "markdown",
     "metadata": {},
     "source": [
      "- - -\n",
      "*Note*\n",
      "\n",
      "\n",
      "\n",
      "`_ =` is used in the examples below simply to absorb output of plotting\n",
      "functions.  You do not have to swallow output in your interactive sessions.\n",
      "- - -\n"
     ]
    },
    {
     "cell_type": "code",
     "collapsed": false,
     "input": [
      "vx_lty = ['-', '--']\n",
      "t_col = ['b', 'r']\n",
      "for i, v in enumerate(example_voxels):\n",
      "    # get a slicing array matching just to current example voxel\n",
      "    slicer = np.array([tuple(idx) == v for idx in ds.fa.voxel_indices])\n",
      "    # perform the timeseries segmentation just for this voxel\n",
      "    evds_detrend = eventrelated_dataset(orig_ds[:, slicer], events=events)\n",
      "    # now plot the mean timeseries and standard error\n",
      "    for j, t in enumerate(evds.uniquetargets):\n",
      "        l = plot_err_line(evds_detrend[evds_detrend.sa.targets == t].samples,\n",
      "                          fmt=t_col[j], linestyle=vx_lty[i])\n",
      "        # label this plot for automatic legend generation\n",
      "        l[0][0].set_label('Voxel %i: %s' % (i, t))\n",
      "_ = pl.ylabel('Detrended signal')\n",
      "_ = pl.axhline(linestyle='--', color='0.6')\n",
      "# pl.plot(sens_mapped[:,792]*10000, '--')\n",
      "# _ = pl.legend()\n",
      "_ = pl.xlim((0,12))"
     ],
     "language": "python",
     "metadata": {},
     "outputs": [
      {
       "metadata": {},
       "output_type": "display_data",
       "png": "[encoded data removed]",
       "text": [
        "<matplotlib.figure.Figure at 0x7f43c3c56710>"
       ]
      }
     ],
     "prompt_number": 85
    },
    {
     "cell_type": "markdown",
     "metadata": {},
     "source": [
      "\n",
      "\n",
      "In the next figure we do exactly the same again, but this time for the\n",
      "normalized data."
     ]
    },
    {
     "cell_type": "code",
     "collapsed": false,
     "input": [
      "for i, v in enumerate(example_voxels):\n",
      "    slicer = np.array([tuple(idx) == v for idx in ds.fa.voxel_indices])\n",
      "    evds_norm = eventrelated_dataset(ds[:, slicer], events=events)\n",
      "    for j, t in enumerate(evds.uniquetargets):\n",
      "        l = plot_err_line(evds_norm[evds_norm.sa.targets == t].samples,\n",
      "                          fmt=t_col[j], linestyle=vx_lty[i])\n",
      "        l[0][0].set_label('Voxel %i: %s' % (i, t))\n",
      "_ = pl.ylabel('Normalized signal')\n",
      "_ = pl.axhline(linestyle='--', color='0.6')\n",
      "_ = pl.xlim((0,12))"
     ],
     "language": "python",
     "metadata": {},
     "outputs": []
    },
    {
     "cell_type": "markdown",
     "metadata": {},
     "source": [
      "\n",
      "\n",
      "Finally, we plot the associated SVM weight profile for each peri-stimulus\n",
      "time-point of both voxels. For easier selection we do a little trick and\n",
      "reverse-map the sensitivity profile through the last mapper in the\n",
      "dataset's chain mapper (look at `evds.a.mapper` for the whole chain).\n",
      "This will reshape the sensitivities into `cross-validation fold x volume x\n",
      "voxel features`."
     ]
    },
    {
     "cell_type": "code",
     "collapsed": false,
     "input": [
      "normed = sens.get_mapped(FxMapper(axis='features', fx=l1_normed))\n",
      "smaps = evds.a.mapper[-1].reverse(normed)\n",
      "for i, v in enumerate(example_voxels):\n",
      "    slicer = np.array([tuple(idx) == v for idx in ds.fa.voxel_indices])\n",
      "    smap = smaps.samples[:,:,slicer].squeeze()\n",
      "    l = plot_err_line(smap, fmt='ko', linestyle=vx_lty[i], errtype='std')\n",
      "_ = pl.xlim((0,12))\n",
      "_ = pl.ylabel('Sensitivity')\n",
      "_ = pl.axhline(linestyle='--', color='0.6')\n",
      "_ = pl.xlabel('Peristimulus volumes')"
     ],
     "language": "python",
     "metadata": {},
     "outputs": []
    },
    {
     "cell_type": "markdown",
     "metadata": {},
     "source": [
      "\n",
      "\n",
      "That was it. Perhaps you are scared by the amount of code. Please note that\n",
      "it could have been done shorter, but this way allows for plotting any other voxel\n",
      "coordinate combination as well. matplotlib also allows for saving this figure in\n",
      "[SVG](http://en.wikipedia.org/wiki/Scalable_Vector_Graphics) format, allowing for convenient post-processing in [Inkscape](http://www.inkscape.org/) -- a\n",
      "publication quality figure is only minutes away.\n",
      "\n",
      "\\[Visit [http://pymvpa.org/examples/tutorial_eventrelated.html](http://pymvpa.org/examples/tutorial_eventrelated.html) to view this figure\\]"
     ]
    },
    {
     "cell_type": "markdown",
     "metadata": {},
     "source": [
      "- - -\n",
      "**Exercise**\n",
      "\n",
      "\n",
      "\n",
      "What can we say about the properties of the example voxel's signal from\n",
      "the peri-stimulus plot?"
     ]
    },
    {
     "cell_type": "code",
     "collapsed": false,
     "input": [
      "# you can use this cell for this exercise"
     ],
     "language": "python",
     "metadata": {},
     "outputs": []
    },
    {
     "cell_type": "markdown",
     "metadata": {},
     "source": [
      "- - -\n",
      "\n",
      "\n",
      "This demo showed an event-related data analysis. Although we have performed\n",
      "it on fMRI data, an analogous analysis can be done for any time series based\n",
      "data in an almost identical fashion. Moreover, if a dataset has information\n",
      "about acquisition time (e.g. like the ones created by\n",
      "[fmri_dataset()](http://pymvpa.org/generated/mvpa2.datasets.mri.fmri_dataset.html#mvpa2-datasets-mri-fmri-dataset))\n",
      "[eventrelated_dataset()](http://pymvpa.org/generated/mvpa2.datasets.eventrelated.eventrelated_dataset.html#mvpa2-datasets-eventrelated-eventrelated-dataset) can also convert\n",
      "event-definition in real time, making it relatively easy to \"convert\"\n",
      "experiment design logfiles into event lists. In this case there would be no\n",
      "need to run a function like\n",
      "[find_events()](http://pymvpa.org/generated/mvpa2.datasets.eventrelated.find_events.html#mvpa2-datasets-eventrelated-find-events), but instead they could be\n",
      "directly specified and passed to\n",
      "[eventrelated_dataset()](http://pymvpa.org/generated/mvpa2.datasets.eventrelated.eventrelated_dataset.html#mvpa2-datasets-eventrelated-eventrelated-dataset)."
     ]
    }
   ],
   "metadata": {}
  }
 ]
}