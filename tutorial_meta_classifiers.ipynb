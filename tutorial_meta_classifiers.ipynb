{
 "metadata": {
  "name": "",
  "signature": "sha256:7919882813db5fb9a6d649754f7241bf2a63d044d1ed5e29053b5398b12eac26"
 },
 "nbformat": 3,
 "nbformat_minor": 0,
 "worksheets": [
  {
   "cells": [
    {
     "cell_type": "heading",
     "level": 1,
     "metadata": {},
     "source": [
      "Classifiers that do more -- Meta Classifiers"
     ]
    },
    {
     "cell_type": "markdown",
     "metadata": {},
     "source": [
      "\n",
      "\n",
      "In *chap_tutorial_classifiers* we saw that it is possible to encapsulate a\n",
      "whole cross-validation analysis into a single object that can be called with\n",
      "any dataset to produce the desired results. We also saw that despite this\n",
      "encapsulation we can still get a fair amount of information about the performed\n",
      "analysis.  However, what happens if we want to do some further processing of\n",
      "the data **within** the cross-validation analysis. That seems to be difficult,\n",
      "since we feed a whole dataset into the analysis, and only internally does it\n",
      "get split into the respective pieces.\n",
      "\n",
      "Of course there is a solution to this problem -- a [meta-classifier](http://pymvpa.org/glossary.html#term-meta-classifier).\n",
      "This is a classifier that doesn't implement a classification algorithm on\n",
      "its own, but uses another classifier to do the actual work. In addition,\n",
      "the meta-classifier adds another processing step that is performed before\n",
      "the actual [base-classifier](http://pymvpa.org/glossary.html#term-base-classifier) sees the data.\n",
      "\n",
      "An example of such a meta-classifier is [MappedClassifier](http://pymvpa.org/generated/mvpa2.clfs.meta.MappedClassifier.html#mvpa2-clfs-meta-mappedclassifier).\n",
      "Its purpose is simple: Apply a mapper to both training and testing data\n",
      "before it is passed on to the internal base-classifier. With this technique\n",
      "it is possible to implement arbitrary pre-processing within a\n",
      "cross-validation analysis.\n",
      "\n",
      "Before we get into that, let's reproduce the dataset from\n",
      "*chap_tutorial_classifiers*:"
     ]
    },
    {
     "cell_type": "code",
     "collapsed": false,
     "input": [
      "ls"
     ],
     "language": "python",
     "metadata": {},
     "outputs": [
      {
       "output_type": "stream",
       "stream": "stdout",
       "text": [
        "\u001b[0m\u001b[01;36mdata\u001b[0m@        \u001b[01;34mhaxby2001\u001b[0m/                             \u001b[01;34mresults\u001b[0m/\r\n",
        "\u001b[01;34mfreesurfer\u001b[0m/  \u001b[01;36mhyperalignment_tutorial_data.hdf5.gz\u001b[0m@  \u001b[01;34msuma_surfaces\u001b[0m/\r\n"
       ]
      }
     ],
     "prompt_number": 4
    },
    {
     "cell_type": "code",
     "collapsed": false,
     "input": [
      "from mvpa2.tutorial_suite import *\n",
      "datapath = os.path.join(tutorial_data_path, 'data')\n",
      "ds = load_tutorial_data(roi='vt')\n",
      "poly_detrend(ds, polyord=1, chunks_attr='chunks')\n",
      "zscore(ds, param_est=('targets', ['rest']))\n",
      "ds = ds[ds.sa.targets != 'rest']\n",
      "run_averager = mean_group_sample(['targets', 'chunks'])\n",
      "ds = ds.get_mapped(run_averager)\n",
      "ds.shape"
     ],
     "language": "python",
     "metadata": {},
     "outputs": [
      {
       "metadata": {},
       "output_type": "pyout",
       "prompt_number": 5,
       "text": [
        "(96, 577)"
       ]
      }
     ],
     "prompt_number": 5
    },
    {
     "cell_type": "markdown",
     "metadata": {},
     "source": [
      "\n",
      "\n",
      "Now, suppose we want to perform the classification not on voxel intensities\n",
      "themselves, but on the same samples in the space spanned by the singular\n",
      "vectors of the training data, it would look like this:"
     ]
    },
    {
     "cell_type": "code",
     "collapsed": false,
     "input": [
      "baseclf = LinearCSVMC()\n",
      "metaclf = MappedClassifier(baseclf, SVDMapper())\n",
      "cvte = CrossValidation(metaclf, NFoldPartitioner())\n",
      "cv_results = cvte(ds)\n",
      "print np.mean(cv_results)"
     ],
     "language": "python",
     "metadata": {},
     "outputs": [
      {
       "output_type": "stream",
       "stream": "stdout",
       "text": [
        "0.15625\n"
       ]
      }
     ],
     "prompt_number": 51
    },
    {
     "cell_type": "markdown",
     "metadata": {},
     "source": [
      "\n",
      "\n",
      "First we notice that little has been changed in the code and the results --\n",
      "the error is slightly reduced, but still comparable. The critical line is\n",
      "the second, where we create the [MappedClassifier](http://pymvpa.org/generated/mvpa2.clfs.meta.MappedClassifier.html#mvpa2-clfs-meta-mappedclassifier) from the\n",
      "SVM classifier instance, and a [SVDMapper](http://pymvpa.org/generated/mvpa2.mappers.svd.SVDMapper.html#mvpa2-mappers-svd-svdmapper) that\n",
      "implements [singular value decomposition](http://en.wikipedia.org/wiki/Singular_value_decomposition) as a mapper."
     ]
    },
    {
     "cell_type": "markdown",
     "metadata": {},
     "source": [
      "- - -\n",
      "**Exercise**\n",
      "\n",
      "\n",
      "\n",
      "What might be the reasons for the error decrease in comparison to the\n",
      "results on the dataset with voxel intensities?"
     ]
    },
    {
     "cell_type": "code",
     "collapsed": false,
     "input": [
      "# you can use this cell for this exercise\n"
     ],
     "language": "python",
     "metadata": {},
     "outputs": []
    },
    {
     "cell_type": "markdown",
     "metadata": {},
     "source": [
      "- - -\n",
      "\n",
      "\n",
      "We know that mappers can be combined into complex processing pipelines, and\n",
      "since [MappedClassifier](http://pymvpa.org/generated/mvpa2.clfs.meta.MappedClassifier.html#mvpa2-clfs-meta-mappedclassifier) takes any mapper as argument, we\n",
      "can implement arbitrary preprocessing steps within the cross-validation\n",
      "procedure. Let's say we have heard rumors that only the first two dimensions\n",
      "of the space spanned by the SVD vectors cover the \"interesting\" variance\n",
      "and the rest is noise. We can easily check that with an appropriate mapper:"
     ]
    },
    {
     "cell_type": "code",
     "collapsed": false,
     "input": [
      "mapper = ChainMapper([SVDMapper(), StaticFeatureSelection(slice(None, 2))])\n",
      "metaclf = MappedClassifier(baseclf, mapper)\n",
      "cvte = CrossValidation(metaclf, NFoldPartitioner(), enable_ca=['stats'])\n",
      "cv_results = cvte(ds)\n",
      "svm_err = np.mean(cv_results)\n",
      "print round(svm_err, 2)"
     ],
     "language": "python",
     "metadata": {},
     "outputs": [
      {
       "output_type": "stream",
       "stream": "stdout",
       "text": [
        "0.57\n"
       ]
      }
     ],
     "prompt_number": 52
    },
    {
     "cell_type": "code",
     "collapsed": false,
     "input": [
      "cvte.ca.keys()"
     ],
     "language": "python",
     "metadata": {},
     "outputs": [
      {
       "metadata": {},
       "output_type": "pyout",
       "prompt_number": 27,
       "text": [
        "['datasets',\n",
        " 'training_stats',\n",
        " 'trained_dataset',\n",
        " 'raw_results',\n",
        " 'trained_nsamples',\n",
        " 'calling_time',\n",
        " 'trained_targets',\n",
        " 'training_time',\n",
        " 'null_t',\n",
        " 'null_prob',\n",
        " 'stats',\n",
        " 'repetition_results']"
       ]
      }
     ],
     "prompt_number": 27
    },
    {
     "cell_type": "code",
     "collapsed": false,
     "input": [
      "cvte.ca.stats"
     ],
     "language": "python",
     "metadata": {},
     "outputs": [
      {
       "metadata": {},
       "output_type": "pyout",
       "prompt_number": 29,
       "text": [
        "<mvpa2.clfs.transerror.ConfusionMatrix at 0x7f79f90daf10>"
       ]
      }
     ],
     "prompt_number": 29
    },
    {
     "cell_type": "code",
     "collapsed": false,
     "input": [
      "cvte.ca.stats.matrix"
     ],
     "language": "python",
     "metadata": {},
     "outputs": [
      {
       "metadata": {},
       "output_type": "pyout",
       "prompt_number": 30,
       "text": [
        "array([[ 6,  8,  3,  0,  6,  7,  0,  8],\n",
        "       [ 0,  0,  0,  0,  0,  0,  0,  0],\n",
        "       [ 0,  0,  0,  0,  0,  1,  0,  0],\n",
        "       [ 6,  4,  6, 12,  6,  4, 11,  2],\n",
        "       [ 0,  0,  0,  0,  0,  0,  0,  0],\n",
        "       [ 0,  0,  0,  0,  0,  0,  0,  0],\n",
        "       [ 0,  0,  0,  0,  0,  0,  0,  0],\n",
        "       [ 0,  0,  3,  0,  0,  0,  1,  2]])"
       ]
      }
     ],
     "prompt_number": 30
    },
    {
     "cell_type": "code",
     "collapsed": false,
     "input": [
      "%matplotlib inline"
     ],
     "language": "python",
     "metadata": {},
     "outputs": [],
     "prompt_number": 40
    },
    {
     "cell_type": "code",
     "collapsed": false,
     "input": [
      "fig,_,_ = cvte.ca.stats.plot()"
     ],
     "language": "python",
     "metadata": {},
     "outputs": [
      {
       "metadata": {},
       "output_type": "display_data",
       "png": "[encoded data removed]",
       "text": [
        "<matplotlib.figure.Figure at 0x7f79f839ec50>"
       ]
      }
     ],
     "prompt_number": 53
    },
    {
     "cell_type": "markdown",
     "metadata": {},
     "source": [
      "\n",
      "\n",
      "Well, obviously the discarded components cannot only be noise, since the error\n",
      "is substantially increased. But maybe it is the classifier that cannot deal with\n",
      "the data. Since nothing in this code is specific to the actual classification\n",
      "algorithm we can easily go back to the kNN classifier that has served us well\n",
      "in the past."
     ]
    },
    {
     "cell_type": "code",
     "collapsed": false,
     "input": [
      "baseclf = kNN(k=1, dfx=one_minus_correlation, voting='majority')\n",
      "mapper = ChainMapper([SVDMapper(), StaticFeatureSelection(slice(None, 5))])\n",
      "metaclf = MappedClassifier(baseclf, mapper)\n",
      "cvte2 = CrossValidation(metaclf, NFoldPartitioner(), enable_ca=['stats'])\n",
      "cv_results2 = cvte2(ds)\n",
      "np.mean(cv_results2) < svm_err"
     ],
     "language": "python",
     "metadata": {},
     "outputs": [
      {
       "metadata": {},
       "output_type": "pyout",
       "prompt_number": 57,
       "text": [
        "True"
       ]
      }
     ],
     "prompt_number": 57
    },
    {
     "cell_type": "code",
     "collapsed": false,
     "input": [
      "fig2,_,_ = cvte2.ca.stats.plot()"
     ],
     "language": "python",
     "metadata": {},
     "outputs": [
      {
       "metadata": {},
       "output_type": "display_data",
       "png": "[encoded data removed]",
       "text": [
        "<matplotlib.figure.Figure at 0x7f79f901b910>"
       ]
      }
     ],
     "prompt_number": 58
    },
    {
     "cell_type": "markdown",
     "metadata": {},
     "source": [
      "\n",
      "\n",
      "Oh, that was even worse. We would have to take a closer look at the data to\n",
      "figure out what is happening here."
     ]
    },
    {
     "cell_type": "markdown",
     "metadata": {},
     "source": [
      "- - -\n",
      "**Exercise**\n",
      "\n",
      "\n",
      "\n",
      "Inspect the confusion matrix of this analysis for both classifiers. What\n",
      "information is represented in the first two SVD components and what is not?\n",
      "Plot the samples of the full dataset after they have been mapped onto the\n",
      "first two SVD components. Why does the kNN classifier perform so bad in\n",
      "comparison to the SVM (hint: think about the distance function)?"
     ]
    },
    {
     "cell_type": "code",
     "collapsed": false,
     "input": [
      "# you can use this cell for this exercise"
     ],
     "language": "python",
     "metadata": {},
     "outputs": [],
     "prompt_number": 56
    },
    {
     "cell_type": "markdown",
     "metadata": {},
     "source": [
      "- - -\n",
      "\n",
      "\n",
      "In this tutorial part we took a look at classifiers. We have seen that,\n",
      "regardless of the actual algorithm, all classifiers are implementing the same\n",
      "interface. Because of this, they can be replaced by another classifier without\n",
      "having to change any other part of the analysis code. Moreover, we have seen\n",
      "that it is possible to enable and access optional information that is offered\n",
      "by particular parts of the processing pipeline."
     ]
    }
   ],
   "metadata": {}
  }
 ]
}